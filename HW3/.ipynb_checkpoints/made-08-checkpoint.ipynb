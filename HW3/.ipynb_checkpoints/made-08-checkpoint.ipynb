{
 "cells": [
  {
   "cell_type": "code",
   "execution_count": null,
   "metadata": {},
   "outputs": [],
   "source": [
    "import pandas as pd\n",
    "import numpy as np\n",
    "import matplotlib as mpl\n",
    "import matplotlib.pyplot as plt\n",
    "import seaborn as sns\n",
    "import warnings\n",
    "warnings.filterwarnings('ignore')\n",
    "from collections import OrderedDict\n",
    "from time import time\n",
    "\n",
    "import numpy as np\n",
    "import scipy as sp\n",
    "import pandas as pd\n",
    "\n",
    "from scipy.optimize import fmin_powell\n",
    "from scipy import integrate\n",
    "from scipy import linalg\n",
    "\n",
    "from sklearn.preprocessing import normalize\n",
    "from sklearn import linear_model\n",
    "from sklearn.utils.testing import ignore_warnings\n",
    "from sklearn.exceptions import ConvergenceWarning\n",
    "\n",
    "np.set_printoptions(precision=4, suppress=True)\n",
    "\n",
    "from collections import Counter\n",
    "from Levenshtein import distance as levenshtein_distance\n",
    "\n",
    "sns.set_style(\"whitegrid\")\n",
    "sns.set_palette(\"colorblind\")\n",
    "palette = sns.color_palette()\n",
    "figsize = (15,8)\n",
    "legend_fontsize = 16\n",
    "\n",
    "from matplotlib import rc\n",
    "rc('font',**{'family':'sans-serif'})\n",
    "rc('text', usetex=True)\n",
    "rc('text.latex',preamble=r'\\usepackage[utf8]{inputenc}')\n",
    "rc('text.latex',preamble=r'\\usepackage[russian]{babel}')\n",
    "rc('axes', **{'titlesize': '16', 'labelsize': '16'})\n",
    "rc('legend', **{'fontsize': '16'})\n",
    "rc('figure', **{'dpi' : 200})"
   ]
  },
  {
   "cell_type": "markdown",
   "metadata": {},
   "source": [
    "## Спортивное \"Что? Где? Когда?\": данные"
   ]
  },
  {
   "cell_type": "code",
   "execution_count": null,
   "metadata": {},
   "outputs": [],
   "source": [
    "import json, pickle\n",
    "\n",
    "tournaments = pickle.load(open('chgk/tournaments.pkl', 'rb'))\n",
    "results = pickle.load(open('chgk/results.pkl', 'rb'))\n",
    "players = pickle.load(open('chgk/players.pkl', 'rb'))"
   ]
  },
  {
   "cell_type": "code",
   "execution_count": null,
   "metadata": {},
   "outputs": [],
   "source": [
    "[ (k, v['name']) for k,v in tournaments.items() if v['dateStart'][:4] == '2019' ]"
   ]
  },
  {
   "cell_type": "code",
   "execution_count": null,
   "metadata": {},
   "outputs": [],
   "source": [
    "tournaments[5465]"
   ]
  },
  {
   "cell_type": "code",
   "execution_count": null,
   "metadata": {},
   "outputs": [],
   "source": [
    "results[5465][0]['mask'], [p['player']['id'] for p in results[5465][0]['teamMembers']]"
   ]
  },
  {
   "cell_type": "code",
   "execution_count": null,
   "metadata": {},
   "outputs": [],
   "source": []
  },
  {
   "cell_type": "markdown",
   "metadata": {},
   "source": [
    "## Скрытые марковские модели: дискретный случай"
   ]
  },
  {
   "cell_type": "code",
   "execution_count": null,
   "metadata": {},
   "outputs": [],
   "source": [
    "from hmmlearn import hmm"
   ]
  },
  {
   "cell_type": "code",
   "execution_count": null,
   "metadata": {},
   "outputs": [],
   "source": [
    "alphabet = np.array(['A', 'C', 'G', 'T'])\n",
    "alphabet_map = { s : i for i,s in enumerate(alphabet) }\n",
    "state1_prob = np.array([ .4, .1, .1, .4 ])\n",
    "state2_prob = np.array([ .1, .4, .4, .1 ])\n",
    "A = np.array([[ .95, .05], [.05, .95]])\n",
    "B = np.array([state1_prob, state2_prob])"
   ]
  },
  {
   "cell_type": "code",
   "execution_count": null,
   "metadata": {},
   "outputs": [],
   "source": [
    "def generate_string(length=100, A=A, B=B, pi=None):\n",
    "    states, m = [0], len(alphabet)\n",
    "    if pi is not None:\n",
    "        states = [np.random.choice(2,p=pi)]\n",
    "    for i in range(length-1):\n",
    "        states.append( np.random.choice(2, p=A[states[-1]]) )\n",
    "    states = np.array(states)\n",
    "    num0, num1 = len(states)-np.sum(states), np.sum(states)\n",
    "    observables = np.zeros(len(states), dtype=int)\n",
    "    observables[np.where(states==0)] = np.random.choice(m, p=B[0], size=num0)\n",
    "    observables[np.where(states==1)] = np.random.choice(m, p=B[1], size=num1)\n",
    "    return states, ''.join(alphabet[observables])"
   ]
  },
  {
   "cell_type": "code",
   "execution_count": null,
   "metadata": {},
   "outputs": [],
   "source": [
    "X, Z = [], []\n",
    "for i in range(1000):\n",
    "    z, x = generate_string(length=200)\n",
    "    X.append(x)\n",
    "    Z.append(z)"
   ]
  },
  {
   "cell_type": "code",
   "execution_count": null,
   "metadata": {},
   "outputs": [],
   "source": [
    "print('%s\\n%s' % (''.join(['%s' % i for i in Z[10]]), X[10]))"
   ]
  },
  {
   "cell_type": "code",
   "execution_count": null,
   "metadata": {},
   "outputs": [],
   "source": [
    "model = hmm.MultinomialHMM(n_components=2, n_iter=20)\n",
    "model.n_features=len(alphabet)"
   ]
  },
  {
   "cell_type": "code",
   "execution_count": null,
   "metadata": {},
   "outputs": [],
   "source": [
    "data = np.array([[ alphabet_map[s] for t in X for s in t ]]).T\n",
    "lengths = np.array([len(t) for t in X])\n",
    "cum_lengths = np.cumsum(lengths)"
   ]
  },
  {
   "cell_type": "code",
   "execution_count": null,
   "metadata": {},
   "outputs": [],
   "source": [
    "model.fit(data, lengths=lengths)"
   ]
  },
  {
   "cell_type": "code",
   "execution_count": null,
   "metadata": {},
   "outputs": [],
   "source": [
    "print(\"Матрица переходов:\\n%s\\n\\n\" % model.transmat_)\n",
    "print(\"\\n\\n\".join([\"=== Состояние %d ===\\n\" % i + \"\\n\".join([ \"%s: %.4f\" % (alphabet[i], x) for i,x in sorted([ [ii, xx] for ii,xx in enumerate(model.emissionprob_[i])], key = lambda x: x[0])[:10]]) for i in range(model.emissionprob_.shape[0])]))"
   ]
  },
  {
   "cell_type": "code",
   "execution_count": null,
   "metadata": {},
   "outputs": [],
   "source": [
    "iString = 200\n",
    "\n",
    "print( \"\".join(['%s' % i for i in Z[iString] ]))\n",
    "print( \"\".join(['%s' % (1-i) for i in model.decode(data[(cum_lengths[iString-1] if iString > 0 else 0):cum_lengths[iString]])[1] ]))\n",
    "\n",
    "fig = plt.figure(figsize=figsize)\n",
    "ax = fig.add_subplot(111)\n",
    "ax.plot(Z[iString]-.05)\n",
    "ax.plot( model.decode(data[(cum_lengths[iString-1] if iString > 0 else 0):cum_lengths[iString]])[1] )\n"
   ]
  },
  {
   "cell_type": "markdown",
   "metadata": {},
   "source": [
    "## Скрытые марковские модели: непрерывный случай"
   ]
  },
  {
   "cell_type": "code",
   "execution_count": null,
   "metadata": {},
   "outputs": [],
   "source": [
    "A = np.array([[ .95, .05], [.05, .95]])\n",
    "Bmu, Bsigma = np.array([ -1., 1. ]), np.array([ 1.2, 1.5 ])\n",
    "\n",
    "def generate_time_series(length=100, A=A, Bmu=Bmu, Bsigma=Bsigma, pi=None):\n",
    "    states, m = [0], len(alphabet)\n",
    "    if pi is not None:\n",
    "        states = [np.random.choice(2,p=pi)]\n",
    "    for i in range(length-1):\n",
    "        states.append( np.random.choice(2, p=A[states[-1]]) )\n",
    "    states = np.array(states)\n",
    "    num0, num1 = len(states)-np.sum(states), np.sum(states)\n",
    "    observables = np.zeros(len(states))\n",
    "    observables[np.where(states==0)] = np.random.normal(Bmu[0], Bsigma[0], num0)\n",
    "    observables[np.where(states==1)] = np.random.normal(Bmu[1], Bsigma[1], num1)\n",
    "    return states, observables"
   ]
  },
  {
   "cell_type": "code",
   "execution_count": null,
   "metadata": {},
   "outputs": [],
   "source": [
    "X, Z = [], []\n",
    "for i in range(500):\n",
    "    z, x = generate_time_series(length=200)\n",
    "    X.append(x)\n",
    "    Z.append(z)"
   ]
  },
  {
   "cell_type": "code",
   "execution_count": null,
   "metadata": {},
   "outputs": [],
   "source": [
    "fig = plt.figure(figsize=figsize)\n",
    "ax = fig.add_subplot(111)\n",
    "ax.plot(X[270], label=\"Данные\", color='black', linewidth=1)\n",
    "ax.plot( Bmu[ Z[270] ], label=\"Средние состояний\", linewidth=2)\n",
    "plt.legend()"
   ]
  },
  {
   "cell_type": "code",
   "execution_count": null,
   "metadata": {},
   "outputs": [],
   "source": [
    "data = np.array(X).reshape(-1, 1)\n",
    "lengths = np.array([len(t) for t in X])\n",
    "cum_lengths = np.cumsum(lengths)"
   ]
  },
  {
   "cell_type": "code",
   "execution_count": null,
   "metadata": {},
   "outputs": [],
   "source": [
    "data.shape"
   ]
  },
  {
   "cell_type": "code",
   "execution_count": null,
   "metadata": {},
   "outputs": [],
   "source": [
    "model = hmm.GaussianHMM(n_components=2)\n",
    "model.n_features=1"
   ]
  },
  {
   "cell_type": "code",
   "execution_count": null,
   "metadata": {},
   "outputs": [],
   "source": [
    "model.fit(data, lengths=lengths)"
   ]
  },
  {
   "cell_type": "code",
   "execution_count": null,
   "metadata": {},
   "outputs": [],
   "source": [
    "print(\"Матрица переходов:\\n%s\\n\\n\" % model.transmat_)\n",
    "print(\"\\n\\n\".join([\"=== Состояние %d ===\\n\" % i + \"%3.5f +- %02.5f\" % (model.means_[i], np.sqrt(model.covars_[i])) for i in range(model.n_components)]))"
   ]
  },
  {
   "cell_type": "code",
   "execution_count": null,
   "metadata": {},
   "outputs": [],
   "source": [
    "iString = 10\n",
    "\n",
    "fig = plt.figure(figsize=figsize)\n",
    "ax = fig.add_subplot(111)\n",
    "ax.plot( model.means_[ model.decode(data[(cum_lengths[iString-1] if iString > 0 else 0):cum_lengths[iString]])[1] ], label=\"Средние состояний модели\", linewidth=2 )\n",
    "ax.plot(X[iString], label=\"Данные\", color='black', linewidth=1)\n",
    "plt.legend()"
   ]
  },
  {
   "cell_type": "code",
   "execution_count": null,
   "metadata": {},
   "outputs": [],
   "source": []
  },
  {
   "cell_type": "code",
   "execution_count": null,
   "metadata": {},
   "outputs": [],
   "source": []
  }
 ],
 "metadata": {
  "kernelspec": {
   "display_name": "Python 3",
   "language": "python",
   "name": "python3"
  },
  "language_info": {
   "codemirror_mode": {
    "name": "ipython",
    "version": 3
   },
   "file_extension": ".py",
   "mimetype": "text/x-python",
   "name": "python",
   "nbconvert_exporter": "python",
   "pygments_lexer": "ipython3",
   "version": "3.8.1"
  }
 },
 "nbformat": 4,
 "nbformat_minor": 1
}
