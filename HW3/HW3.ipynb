{
 "cells": [
  {
   "cell_type": "markdown",
   "metadata": {},
   "source": [
    "# Advanced ML: Домашнее задание 3"
   ]
  },
  {
   "cell_type": "code",
   "execution_count": 1,
   "metadata": {},
   "outputs": [],
   "source": [
    "import pickle\n",
    "import pandas as pd\n",
    "import numpy as np\n",
    "import matplotlib.pyplot as plt\n",
    "import scipy.stats as sps\n",
    "\n",
    "from sklearn.linear_model import LogisticRegression\n",
    "from sklearn.preprocessing import OneHotEncoder\n",
    "from tqdm.notebook import tqdm\n",
    "from scipy.sparse import csr_matrix, vstack"
   ]
  },
  {
   "cell_type": "markdown",
   "metadata": {},
   "source": [
    "## Task 1"
   ]
  },
  {
   "cell_type": "markdown",
   "metadata": {},
   "source": [
    " Прочитайте и проанализируйте данные, выберите турниры, в которых есть данные\n",
    "о составах команд и повопросных результатах (поле *mask* в results.pkl). Для\n",
    "унификации предлагаю:\n",
    " - взять в тренировочный набор турниры с dateStart из 2019 года;\n",
    " - в тестовый — турниры с dateStart из 2020 года."
   ]
  },
  {
   "cell_type": "code",
   "execution_count": 2,
   "metadata": {},
   "outputs": [],
   "source": [
    "tournaments = pickle.load(open('data/tournaments.pkl', 'rb'))\n",
    "results = pickle.load(open('data/results.pkl', 'rb'))\n",
    "players = pickle.load(open('data/players.pkl', 'rb'))"
   ]
  },
  {
   "cell_type": "code",
   "execution_count": 3,
   "metadata": {},
   "outputs": [],
   "source": [
    "tournaments_train = {key: value for key, value in tournaments.items() if value['dateStart'][:4] == '2019'}\n",
    "tournaments_test = {key: value for key, value in tournaments.items() if value['dateStart'][:4] == '2020'}"
   ]
  },
  {
   "cell_type": "code",
   "execution_count": 4,
   "metadata": {
    "scrolled": true
   },
   "outputs": [
    {
     "name": "stdout",
     "output_type": "stream",
     "text": [
      "Number of tournaments in the train set: 687\n",
      "Number of tournaments in the test set: 418\n"
     ]
    }
   ],
   "source": [
    "print(f'Number of tournaments in the train set: {len(tournaments_train)}')\n",
    "print(f'Number of tournaments in the test set: {len(tournaments_test)}')"
   ]
  },
  {
   "cell_type": "code",
   "execution_count": 5,
   "metadata": {},
   "outputs": [
    {
     "name": "stdout",
     "output_type": "stream",
     "text": [
      "Sample of the tournament object:\n"
     ]
    },
    {
     "data": {
      "text/plain": [
       "{'id': 4772,\n",
       " 'name': 'Синхрон северных стран. Зимний выпуск',\n",
       " 'dateStart': '2019-01-05T19:00:00+03:00',\n",
       " 'dateEnd': '2019-01-09T19:00:00+03:00',\n",
       " 'type': {'id': 3, 'name': 'Синхрон'},\n",
       " 'season': '/seasons/52',\n",
       " 'orgcommittee': [{'id': 28379,\n",
       "   'name': 'Константин',\n",
       "   'patronymic': 'Владимирович',\n",
       "   'surname': 'Сахаров'}],\n",
       " 'synchData': {'dateRequestsAllowedTo': '2019-01-09T23:59:59+03:00',\n",
       "  'resultFixesTo': '2019-01-19T23:59:59+03:00',\n",
       "  'resultsRecapsTo': '2019-01-11T23:59:59+03:00',\n",
       "  'allowAppealCancel': True,\n",
       "  'allowNarratorErrorAppeal': False,\n",
       "  'dateArchivedAt': '2019-01-26T23:59:59+03:00',\n",
       "  'dateDownloadQuestionsFrom': '2019-01-04T00:00:00+03:00',\n",
       "  'dateDownloadQuestionsTo': '2019-01-09T19:00:00+03:00',\n",
       "  'hideQuestionsTo': '2019-01-09T23:59:59+03:00',\n",
       "  'hideResultsTo': '2019-01-09T23:59:59+03:00',\n",
       "  'allVerdictsDone': None,\n",
       "  'instantControversial': True},\n",
       " 'questionQty': {'1': 12, '2': 12, '3': 12}}"
      ]
     },
     "execution_count": 5,
     "metadata": {},
     "output_type": "execute_result"
    }
   ],
   "source": [
    "print('Sample of the tournament object:')\n",
    "tournaments_train[4772]"
   ]
  },
  {
   "cell_type": "code",
   "execution_count": 6,
   "metadata": {
    "scrolled": false
   },
   "outputs": [
    {
     "name": "stdout",
     "output_type": "stream",
     "text": [
      "Sample of the results object:\n",
      "Number of teams: 231\n",
      "Team results:\n"
     ]
    },
    {
     "data": {
      "text/plain": [
       "{'team': {'id': 45556,\n",
       "  'name': 'Рабочее название',\n",
       "  'town': {'id': 285, 'name': 'Санкт-Петербург'}},\n",
       " 'mask': '111111111011111110111111111100010010',\n",
       " 'current': {'name': 'Рабочее название',\n",
       "  'town': {'id': 285, 'name': 'Санкт-Петербург'}},\n",
       " 'questionsTotal': 28,\n",
       " 'synchRequest': {'id': 56392,\n",
       "  'venue': {'id': 3030, 'name': 'Санкт-Петербург'}},\n",
       " 'position': 1,\n",
       " 'controversials': [{'id': 91169,\n",
       "   'questionNumber': 15,\n",
       "   'answer': 'Мьёльнир',\n",
       "   'issuedAt': '2019-01-06T13:28:48+03:00',\n",
       "   'status': 'A',\n",
       "   'comment': '',\n",
       "   'resolvedAt': '2019-01-06T15:25:54+03:00',\n",
       "   'appealJuryComment': None}],\n",
       " 'flags': [],\n",
       " 'teamMembers': [{'flag': 'Б',\n",
       "   'usedRating': 13507,\n",
       "   'rating': 13507,\n",
       "   'player': {'id': 6212,\n",
       "    'name': 'Юрий',\n",
       "    'patronymic': 'Яковлевич',\n",
       "    'surname': 'Выменец'}},\n",
       "  {'flag': 'Б',\n",
       "   'usedRating': 10988,\n",
       "   'rating': 13185,\n",
       "   'player': {'id': 18332,\n",
       "    'name': 'Александр',\n",
       "    'patronymic': 'Витальевич',\n",
       "    'surname': 'Либер'}},\n",
       "  {'flag': 'Б',\n",
       "   'usedRating': 8534,\n",
       "   'rating': 12801,\n",
       "   'player': {'id': 18036,\n",
       "    'name': 'Михаил',\n",
       "    'patronymic': 'Ильич',\n",
       "    'surname': 'Левандовский'}},\n",
       "  {'flag': 'К',\n",
       "   'usedRating': 6401,\n",
       "   'rating': 12801,\n",
       "   'player': {'id': 22799,\n",
       "    'name': 'Сергей',\n",
       "    'patronymic': 'Игоревич',\n",
       "    'surname': 'Николенко'}},\n",
       "  {'flag': 'Б',\n",
       "   'usedRating': 4252,\n",
       "   'rating': 12757,\n",
       "   'player': {'id': 15456,\n",
       "    'name': 'Сергей',\n",
       "    'patronymic': 'Владимирович',\n",
       "    'surname': 'Коновалов'}},\n",
       "  {'flag': 'Б',\n",
       "   'usedRating': 2069,\n",
       "   'rating': 12416,\n",
       "   'player': {'id': 26089,\n",
       "    'name': 'Ирина',\n",
       "    'patronymic': 'Сергеевна',\n",
       "    'surname': 'Прокофьева'}}]}"
      ]
     },
     "execution_count": 6,
     "metadata": {},
     "output_type": "execute_result"
    }
   ],
   "source": [
    "print('Sample of the results object:')\n",
    "print(f'Number of teams: {len(results[4772])}')\n",
    "print('Team results:')\n",
    "results[4772][0]"
   ]
  },
  {
   "cell_type": "code",
   "execution_count": 7,
   "metadata": {},
   "outputs": [],
   "source": [
    "player_ids_train = set()\n",
    "for tournament_id in tournaments_train.keys():\n",
    "    for team in results[tournament_id]:\n",
    "        for player in team['teamMembers']:\n",
    "            player_ids_train.add(player['player']['id'])\n",
    "player_ids_train = list(player_ids_train)"
   ]
  },
  {
   "cell_type": "code",
   "execution_count": 8,
   "metadata": {},
   "outputs": [
    {
     "name": "stdout",
     "output_type": "stream",
     "text": [
      "Number of players in train data: 59224\n"
     ]
    }
   ],
   "source": [
    "print(f'Number of players in train data: {len(player_ids_train)}')"
   ]
  },
  {
   "cell_type": "code",
   "execution_count": 9,
   "metadata": {},
   "outputs": [
    {
     "name": "stdout",
     "output_type": "stream",
     "text": [
      "Sample of the player object:\n"
     ]
    },
    {
     "data": {
      "text/plain": [
       "{'id': 131077,\n",
       " 'name': 'Паруйр',\n",
       " 'patronymic': 'Паруйрович',\n",
       " 'surname': 'Аланакян'}"
      ]
     },
     "execution_count": 9,
     "metadata": {},
     "output_type": "execute_result"
    }
   ],
   "source": [
    "print('Sample of the player object:')\n",
    "players[player_ids_train[0]]"
   ]
  },
  {
   "cell_type": "markdown",
   "metadata": {},
   "source": [
    "## Task 2"
   ]
  },
  {
   "cell_type": "markdown",
   "metadata": {},
   "source": [
    "Постройте baseline-модель на основе линейной или логистической регрессии, которая будет обучать рейтинг-лист игроков. Замечания и подсказки:\n",
    " - повопросные результаты — это фактически результаты броска монетки, и их предсказание скорее всего имеет отношение к бинарной классификации;\n",
    " - в разных турнирах вопросы совсем разного уровня сложности, поэтому модель должна это учитывать; скорее всего, модель должна будет явно обучать не только силу каждого игрока, но и сложность каждого вопроса;\n",
    " - в разных турнирах вопросы совсем разного уровня сложности, поэтому модель должна это учитывать; скорее всего, модель должна будет явно обучать не только силу каждого игрока, но и сложность каждого вопроса;\n",
    " - для baseline-модели можно забыть о командах и считать, что повопросные результаты команды просто относятся к каждому из её игроков."
   ]
  },
  {
   "cell_type": "markdown",
   "metadata": {},
   "source": [
    "Пусть $Q$ — случайная величина, сложность вопроса, где вопрос выбирается равновероятно из всей базы вопросов. $X_{i}$ — случайная величина, служащая индикатором того, что игрок с индексом $i$ ответил на вопрос."
   ]
  },
  {
   "cell_type": "markdown",
   "metadata": {},
   "source": [
    "Предположим, что нам известна сложность конкретного вопроса. Тогда для каждого игрока мы можем обучить модель для вероятности $P(X_i|Q=q)$."
   ]
  },
  {
   "cell_type": "markdown",
   "metadata": {},
   "source": [
    "В качестве рейтинга игрока возьмём матожидание $X_i$ по распределению вопросов в базе:\n",
    "$$\n",
    "E_{Q}[X_i] = \\int_{D(Q)} P(X_i|Q = q) p_Q(q) dq.\n",
    "$$\n",
    "Это будет означать матожидание того, что игрок ответит на случайно взятый из базы вопрос. Таким образом, у рейтинга будет конкретная вероятностная интерпретация, которую можно использовать для дальнейшего вывода."
   ]
  },
  {
   "cell_type": "markdown",
   "metadata": {},
   "source": [
    "Тогда для построения рейтинга необходимо:\n",
    "  1. Предложить способ подсчёта q для конкретного вопроса.\n",
    "  2. Найти (аппроксимировать) распределение для Q.\n",
    "  3. Построить модель для $P(X_i|Q=q)$.\n",
    "  4. Вычислить интеграл для матожидания (можно численно)."
   ]
  },
  {
   "cell_type": "markdown",
   "metadata": {},
   "source": [
    "1) Предложить способ подсчёта q для конкретного вопроса.  \n",
    "Было бы хорошо вычислять q вопроса как вероятность того, что случайно взятый игрок из базы правильно ответит на этот вопрос. Но в действительности такую вероятность сложно или невозможно оценить из существующего набора данных, так как каждый вопрос играется в рамках одного турнира, а турнир в свою очередь как правило объединяет команды похожие по уровню и содержит соответствующие по сложности вопросы. Если некоторый вопрос взяло большое количество команд, это может свидетельствовать не о лёгкости вопроса относительно других вопросов в базе, а о том, что турнир играют сильные команды. Тем не менее, **сделаем предположение**, что вероятность взять вопрос не зависит от турнира. В рамках этого предположения q будет иметь нужную интерпретацию и легко вычисляться из данных по формуле\n",
    "$$\n",
    "q = \\frac{\\text{# игроки, взявшие вопрос}}{\\text{# игроки в турнире}}.\n",
    "$$\n",
    "Также будем считать, что если команда взяла вопрос, то и все игроки взяли этот вопрос. Это конечно не так и завысит по итогу рейтинг всех игроков."
   ]
  },
  {
   "cell_type": "code",
   "execution_count": 10,
   "metadata": {},
   "outputs": [],
   "source": [
    "df_answers = {'q_idx': [], 't_idx': [], 'p_idx': [], 'ans': []}\n",
    "for t_index in tournaments_train.keys():\n",
    "    for result in results[t_index]:\n",
    "        if 'mask' in result.keys() and result['mask'] is not None:\n",
    "            for i, ans in enumerate(result['mask']):\n",
    "                if not (ans == '0' or ans == '1'):\n",
    "                    break\n",
    "                q_idx = t_index*10000 + i\n",
    "                for player in result['teamMembers']:\n",
    "                    df_answers['q_idx'].append(q_idx)\n",
    "                    df_answers['t_idx'].append(result['team']['id'])\n",
    "                    df_answers['p_idx'].append(player['player']['id'])\n",
    "                    df_answers['ans'].append(int(ans))\n",
    "df_answers = pd.DataFrame.from_dict(df_answers)"
   ]
  },
  {
   "cell_type": "code",
   "execution_count": 11,
   "metadata": {},
   "outputs": [],
   "source": [
    "q_counts = df_answers['q_idx'].value_counts()\n",
    "ans_counts = df_answers[df_answers['ans'] == 1]['q_idx'].value_counts()\n",
    "q_diff = pd.Series(np.zeros(len(df_answers['q_idx'].unique()), dtype=float),\n",
    "                      index=df_answers['q_idx'].unique())\n",
    "for q_idx in q_diff.index:\n",
    "    if q_idx in ans_counts.index:\n",
    "        q_diff[q_idx] = ans_counts[q_idx] / q_counts[q_idx]"
   ]
  },
  {
   "cell_type": "code",
   "execution_count": 12,
   "metadata": {},
   "outputs": [
    {
     "data": {
      "text/plain": [
       "47720000    0.892295\n",
       "47720001    0.776305\n",
       "47720002    0.463132\n",
       "47720003    0.541839\n",
       "47720004    0.888981\n",
       "dtype: float64"
      ]
     },
     "execution_count": 12,
     "metadata": {},
     "output_type": "execute_result"
    }
   ],
   "source": [
    "q_diff.head()"
   ]
  },
  {
   "cell_type": "markdown",
   "metadata": {},
   "source": [
    "2) Найти (аппроксимировать) распределение для Q."
   ]
  },
  {
   "cell_type": "code",
   "execution_count": 13,
   "metadata": {
    "scrolled": true
   },
   "outputs": [
    {
     "data": {
      "text/plain": [
       "<matplotlib.axes._subplots.AxesSubplot at 0x7f08822d2940>"
      ]
     },
     "execution_count": 13,
     "metadata": {},
     "output_type": "execute_result"
    },
    {
     "data": {
      "image/png": "[encoded data removed]",
      "text/plain": [
       "<Figure size 432x288 with 1 Axes>"
      ]
     },
     "metadata": {
      "needs_background": "light"
     },
     "output_type": "display_data"
    }
   ],
   "source": [
    "q_diff.hist(bins=50)"
   ]
  },
  {
   "cell_type": "markdown",
   "metadata": {},
   "source": [
    "Распределение не похоже на какое-то известное, поэтому формулой его аппроксимировать не получится. Возьмём эмпирическое распределение на основе гистограммы."
   ]
  },
  {
   "cell_type": "code",
   "execution_count": 14,
   "metadata": {},
   "outputs": [
    {
     "name": "stdout",
     "output_type": "stream",
     "text": [
      "Sanity check: 0.9999999999999999\n"
     ]
    }
   ],
   "source": [
    "n_bins = 50\n",
    "bounds = np.stack([np.linspace(0, 1, n_bins+1)[:-1], np.linspace(0, 1, n_bins+1)[1:]]).T\n",
    "diff_space = bounds.mean(axis=1).reshape((-1, 1))\n",
    "diff_probs = np.array([((q_diff >= bound[0]) & (q_diff < bound[1])).sum() for bound in bounds])\n",
    "diff_probs[-1] += (q_diff == 1).sum()\n",
    "diff_probs = diff_probs / len(q_diff)\n",
    "print(f'Sanity check: {diff_probs.sum()}')"
   ]
  },
  {
   "cell_type": "code",
   "execution_count": 15,
   "metadata": {
    "scrolled": true
   },
   "outputs": [
    {
     "data": {
      "image/png": "[encoded data removed]",
      "text/plain": [
       "<Figure size 432x288 with 1 Axes>"
      ]
     },
     "metadata": {
      "needs_background": "light"
     },
     "output_type": "display_data"
    }
   ],
   "source": [
    "plt.plot(diff_space, diff_probs)\n",
    "plt.title('Empirical probabilities')\n",
    "plt.show()"
   ]
  },
  {
   "cell_type": "markdown",
   "metadata": {},
   "source": [
    "3) Построить модель для $P(X_i|Q=q)$.  \n",
    "В качестве модели для каждого игрока в отдельности построим логистическую регрессию, единственным признаком которой будет сложность вопроса.\n",
    "$$\n",
    "P(X_i | Q=q) = \\sigma(wq + w_0).\n",
    "$$"
   ]
  },
  {
   "cell_type": "markdown",
   "metadata": {},
   "source": [
    "4) Вычислить интеграл для матожидания (можно численно).  \n",
    "Для каждого игрока сделаем предсказание для вопросов различной сложности и усредним с весами из *diff_probs*."
   ]
  },
  {
   "cell_type": "code",
   "execution_count": 16,
   "metadata": {},
   "outputs": [],
   "source": [
    "df_answers['q_diff'] = q_diff[df_answers['q_idx'].values].values"
   ]
  },
  {
   "cell_type": "code",
   "execution_count": 17,
   "metadata": {},
   "outputs": [
    {
     "data": {
      "application/vnd.jupyter.widget-view+json": {
       "model_id": "cd2d1ae0ab214a5ca2ae60ae3bc37b62",
       "version_major": 2,
       "version_minor": 0
      },
      "text/plain": [
       "HBox(children=(FloatProgress(value=0.0, max=59224.0), HTML(value='')))"
      ]
     },
     "metadata": {},
     "output_type": "display_data"
    },
    {
     "name": "stdout",
     "output_type": "stream",
     "text": [
      "\n"
     ]
    }
   ],
   "source": [
    "p_rates = pd.Series(np.zeros(len(player_ids_train), dtype=float),\n",
    "                      index=player_ids_train)\n",
    "for idx in tqdm(player_ids_train):\n",
    "    p_df = df_answers[df_answers['p_idx'] == idx]\n",
    "    model = LogisticRegression()\n",
    "    try:\n",
    "        model.fit(p_df[['q_diff']], p_df['ans'])\n",
    "        preds = model.predict_proba(diff_space)[:, 1]\n",
    "        rate = np.dot(preds, diff_probs)\n",
    "        p_rates[idx] = rate\n",
    "    except ValueError:\n",
    "        if not 0 in p_df['ans'].values:\n",
    "            p_rates[idx] = 1"
   ]
  },
  {
   "cell_type": "code",
   "execution_count": 18,
   "metadata": {},
   "outputs": [],
   "source": [
    "p_rates.to_csv('data/p_rates.csv')"
   ]
  },
  {
   "cell_type": "markdown",
   "metadata": {},
   "source": [
    "Посмотрим на распределение получившихся рейтингов:"
   ]
  },
  {
   "cell_type": "code",
   "execution_count": 19,
   "metadata": {
    "scrolled": true
   },
   "outputs": [
    {
     "data": {
      "text/plain": [
       "<matplotlib.axes._subplots.AxesSubplot at 0x7f08886c4a00>"
      ]
     },
     "execution_count": 19,
     "metadata": {},
     "output_type": "execute_result"
    },
    {
     "data": {
      "image/png": "[encoded data removed]",
      "text/plain": [
       "<Figure size 432x288 with 1 Axes>"
      ]
     },
     "metadata": {
      "needs_background": "light"
     },
     "output_type": "display_data"
    }
   ],
   "source": [
    "p_rates.hist(bins=50)"
   ]
  },
  {
   "cell_type": "code",
   "execution_count": 20,
   "metadata": {},
   "outputs": [
    {
     "data": {
      "text/plain": [
       "count    59224.000000\n",
       "mean         0.341635\n",
       "std          0.159843\n",
       "min          0.000000\n",
       "25%          0.227475\n",
       "50%          0.342995\n",
       "75%          0.450686\n",
       "max          1.000000\n",
       "dtype: float64"
      ]
     },
     "execution_count": 20,
     "metadata": {},
     "output_type": "execute_result"
    }
   ],
   "source": [
    "p_rates.describe()"
   ]
  },
  {
   "cell_type": "markdown",
   "metadata": {},
   "source": [
    "Во время обучения встречались игроки, которые не ответили ни на один вопрос, либо ответили на все. В таком случае рейтинг равен 0 или 1, так как логистическую регрессию для них обучить невозможно."
   ]
  },
  {
   "cell_type": "markdown",
   "metadata": {},
   "source": [
    "Посмотрим на рейтинг игроков, находящихся в первой десятке по официальному рейтингу на сайте рейтинга чгк:"
   ]
  },
  {
   "cell_type": "code",
   "execution_count": 21,
   "metadata": {
    "scrolled": false
   },
   "outputs": [
    {
     "name": "stdout",
     "output_type": "stream",
     "text": [
      "1. Артём Сергеевич Сорожкин: 0.7462404399269962\n",
      "2. Сергей Леонидович Спешков: 0.744937665965776\n",
      "3. Иван Николаевич Семушин: 0.765495003214929\n",
      "4. Михаил Владимирович Савченков: 0.7482146387565872\n",
      "5. Максим Михайлович Руссо: 0.7730484738393706\n",
      "6. Александра Владимировна Брутер: 0.7673787934295416\n",
      "7. Александр Витальевич Либер: 0.7161458981022918\n",
      "8. Михаил Ильич Левандовский: 0.7098142333598398\n",
      "9. Ким Гагикович Галачян: 0.6752295338367517\n",
      "10. Сергей Игоревич Николенко: 0.6880839776222154\n"
     ]
    }
   ],
   "source": [
    "top_idxs = [30152, 30270, 28751, 27822, 27403, 4270, 18332, 18036, 6482, 22799]\n",
    "for place, idx in enumerate(top_idxs, 1):\n",
    "    player = players[idx]\n",
    "    print(f\"{place}. {player['name']} {player['patronymic']} {player['surname']}: {p_rates[idx]}\")"
   ]
  },
  {
   "cell_type": "markdown",
   "metadata": {},
   "source": [
    "Лучшие 10 игроков по полученному рейтингу (не учитывая игроков с рейтингом 1):"
   ]
  },
  {
   "cell_type": "code",
   "execution_count": 22,
   "metadata": {},
   "outputs": [
    {
     "name": "stdout",
     "output_type": "stream",
     "text": [
      "1. Павел Константинович Щербина: 0.9722234760842277\n",
      "2. Инга Андрисовна Лоренц: 0.9043330514794683\n",
      "3. Валентина  Подюкова: 0.9005604150996038\n",
      "4. Алина Дмитриевна Антипова: 0.8969597057057481\n",
      "5. София Евгеньевна Лебедева: 0.8938684685127635\n",
      "6. Михаил Владимирович Завьялов: 0.8912828635918542\n",
      "7. Давид Сергеевич Кан: 0.8912828635918542\n",
      "8. Юлия  Крюкова: 0.8842588883611482\n",
      "9. Наталья  Артемьева: 0.8842588883611482\n",
      "10. Екатерина  Горелова: 0.8842588883611482\n"
     ]
    }
   ],
   "source": [
    "for place, idx in enumerate(p_rates[p_rates != 1].sort_values(ascending=False).index[:10], 1):\n",
    "    player = players[idx]\n",
    "    print(f\"{place}. {player['name']} {player['patronymic']} {player['surname']}: {p_rates[idx]}\")"
   ]
  },
  {
   "cell_type": "markdown",
   "metadata": {},
   "source": [
    "## Task 3"
   ]
  },
  {
   "cell_type": "markdown",
   "metadata": {},
   "source": [
    "Качество рейтинг-системы оценивается качеством предсказаний результатов турниров. Но сами повопросные результаты наши модели предсказывать вряд ли смогут, ведь неизвестно, насколько сложными окажутся вопросы в будущих турнирах; да и не нужны эти предсказания сами по себе. Поэтому:\n",
    " - предложите способ предсказать результаты нового турнира с известными составами, но неизвестными вопросами, в виде ранжирования команд;\n",
    " - в качестве метрики качества на тестовом наборе давайте считать ранговые корреляции Спирмена и Кендалла (их можно взять в пакете *scipy*) между реальным ранжированием в результатах турнира и предсказанным моделью, усреднённые по тестовому множеству турниров."
   ]
  },
  {
   "cell_type": "markdown",
   "metadata": {},
   "source": [
    "Для определения рейтинга команды воспользуемся вероятностной интерпретацией. Если рейтинг i-го игрока $r_i$ равен вероятности взять им случайный вопрос, тогда вероятность взять вопрос командой $T$ равна\n",
    "$$\n",
    "r_T = 1 - \\prod_{i \\in T} \\left(1 - r_i\\right).\n",
    "$$\n",
    "Данная вероятность относится не к конкретному турниру, а к \"среднему\" вопросу из выборки, но по ней можно отсортировать команды турнира.  \n",
    "Для игроков, которых не было в тренировочном наборе, будем использовать просто среднее значение рейтинга."
   ]
  },
  {
   "cell_type": "code",
   "execution_count": 23,
   "metadata": {},
   "outputs": [],
   "source": [
    "def evaluate_team(team):\n",
    "    res = 1\n",
    "    for player in team:\n",
    "        if player['player']['id'] in p_rates.index:\n",
    "            p = p_rates[player['player']['id']]\n",
    "        else:\n",
    "            p = p_rates.mean()\n",
    "        res *= (1 - p)\n",
    "    return 1 - res"
   ]
  },
  {
   "cell_type": "code",
   "execution_count": 24,
   "metadata": {},
   "outputs": [
    {
     "name": "stderr",
     "output_type": "stream",
     "text": [
      "/home/uladzislaw/anaconda3/envs/dl_py38/lib/python3.8/site-packages/numpy/lib/function_base.py:2534: RuntimeWarning: invalid value encountered in true_divide\n",
      "  c /= stddev[:, None]\n",
      "/home/uladzislaw/anaconda3/envs/dl_py38/lib/python3.8/site-packages/numpy/lib/function_base.py:2535: RuntimeWarning: invalid value encountered in true_divide\n",
      "  c /= stddev[None, :]\n",
      "/home/uladzislaw/anaconda3/envs/dl_py38/lib/python3.8/site-packages/scipy/stats/_distn_infrastructure.py:903: RuntimeWarning: invalid value encountered in greater\n",
      "  return (a < x) & (x < b)\n",
      "/home/uladzislaw/anaconda3/envs/dl_py38/lib/python3.8/site-packages/scipy/stats/_distn_infrastructure.py:903: RuntimeWarning: invalid value encountered in less\n",
      "  return (a < x) & (x < b)\n",
      "/home/uladzislaw/anaconda3/envs/dl_py38/lib/python3.8/site-packages/scipy/stats/_distn_infrastructure.py:1912: RuntimeWarning: invalid value encountered in less_equal\n",
      "  cond2 = cond0 & (x <= _a)\n"
     ]
    },
    {
     "name": "stdout",
     "output_type": "stream",
     "text": [
      "Average Spearman correlation: 0.6626302708879771\n",
      "Average Kendall correlation: 0.5117902844153421\n"
     ]
    }
   ],
   "source": [
    "num_tournaments = 0\n",
    "spearman_coef = 0\n",
    "kendall_coef = 0\n",
    "for t_idx in tournaments_test.keys():\n",
    "    if not results[t_idx]:\n",
    "        continue\n",
    "    if not 'position' in results[t_idx][0].keys():\n",
    "        continue\n",
    "    ranks_pred = np.zeros(len(results[t_idx]))\n",
    "    ranks_true = np.zeros(len(results[t_idx]))\n",
    "    for i, result in enumerate(results[t_idx]):\n",
    "        ranks_true[i] = result['position']\n",
    "        ranks_pred[i] = evaluate_team(result['teamMembers'])\n",
    "    spearman_coef_curr = sps.spearmanr(ranks_pred, -ranks_true)[0]\n",
    "    kendall_coef_curr = sps.kendalltau(ranks_pred, -ranks_true)[0]\n",
    "    if not (np.isnan(spearman_coef_curr) or np.isnan(kendall_coef_curr)):\n",
    "        spearman_coef += spearman_coef_curr\n",
    "        kendall_coef += kendall_coef_curr\n",
    "        num_tournaments += 1\n",
    "print(f'Average Spearman correlation: {spearman_coef/num_tournaments}')\n",
    "print(f'Average Kendall correlation: {kendall_coef/num_tournaments}')"
   ]
  },
  {
   "cell_type": "markdown",
   "metadata": {},
   "source": [
    "## Task 4"
   ]
  },
  {
   "cell_type": "markdown",
   "metadata": {},
   "source": [
    "Теперь главное: ЧГК — это всё-таки командная игра. Поэтому:\n",
    " - предложите способ учитывать то, что на вопрос отвечают сразу несколько игроков; скорее всего, понадобятся скрытые переменные; не стесняйтесь делать упрощающие предположения, но теперь переменные “игрок X ответил на вопрос Y” при условии данных должны стать зависимыми для игроков одной и той же команды;\n",
    " - разработайте EM-схему для обучения этой модели, реализуйте её в коде;\n",
    " - обучите несколько итераций, убедитесь, что целевые метрики со временем растут (скорее всего, ненамного, но расти должны), выберите лучшую модель, используя целевые метрики."
   ]
  },
  {
   "cell_type": "markdown",
   "metadata": {},
   "source": [
    "Введём скрытую переменную z, обозначающую какие именно игроки взяли вопрос в команде. Если например в команде 6 игроков, и из них вопрос взяли второй и шестой игрок, то для этой комадны для данного вопроса $z = (0, 1, 0, 0, 0, 1)$. Пусть теперь $Q$ - множество всех вопросов, $T_i$ - множество команд, ответивших на $i$-й вопрос, а $M_j$ - множество игроков $j$-й команды, $p_{ki}$ - вероятность того, что $k$-й игрок взял $i$-й вопрос (предсказание модели). Тогда правдоподобие данных при известном z будет выглядеть так:\n",
    "$$\n",
    "L(\\theta, z) = p(D|\\theta, z) = \\prod_{i \\in Q} \\prod_{j \\in T_i} \\prod_{k \\in M_j} p_{ki}(\\theta)^{z_{ijk}} (1 - p_{ki}(\\theta))^{1 - z_{ijk}}.\n",
    "$$\n",
    "Логарифм правдоподобия:\n",
    "$$\n",
    "l(\\theta, z) = \\sum_{i \\in Q} \\sum_{j \\in T_i} \\sum_{k \\in M_j} z_{ijk} \\ln{(p_{ki}(\\theta))} + (1 - z_{ijk}) \\ln {(1 - p_{ki}(\\theta))}.\n",
    "$$\n",
    "По свойству линейности матожидания:\n",
    "$$\n",
    "E_z[l(\\theta, z)] = \\sum_{i \\in Q} \\sum_{j \\in T_i} \\sum_{k \\in M_j} E[z_{ijk}] \\ln{(p_{ki}(\\theta))} + (1 - E[z_{ijk}]) \\ln {(1 - p_{ki}(\\theta))}.\n",
    "$$\n",
    "В EM-алгоритме на шаге M будем максимизировать найденное матожидание по $\\theta$. Для этого обучим логистическую регрессию. В отличие от бейзлайна будем обучать такую модель:\n",
    "$$\n",
    "p_{ki} = \\sigma(w_k + w_i),\n",
    "$$\n",
    "где $w_k$ - коэффициент рейтинга $k$-ого игрока, а $w_i$ - коэффициент сложности $i$-го вопроса (чем меньше, тем вопрос сложнее). Данные коэффициенты можно обучить максимизируя по ним матожидание например с помощью градиентного подъёма."
   ]
  },
  {
   "cell_type": "markdown",
   "metadata": {},
   "source": [
    "Теперь определим E-шаг. Если команда не взяла вопрос, то нам наверняка известно что никто из игроков его не взял и $E[z_{ijk}] = 0$. В случае, если команда взяла вопрос, мы не знаем, кто именно из игроков это сделал. Пусть $A_T$ - событие того, что команда правильно ответила на вопрос, $A_i$ - событие того, что $i$-й игрок ответил на вопрос. С помощью модели мы можем предсказать $p_i = P(A_i)$. Тогда\n",
    "$$\n",
    "P(A_i|A_T) = \\frac{P(A_i, A_T)}{P(A_T)} = \\frac{P(A_i)}{P(A_T)} = \\frac{P(A_i)}{1 - \\prod_{j \\in M} (1 - P(A_j))}.\n",
    "$$\n",
    "Придерживаясь тех же обозначений, что и для M шага получаем:\n",
    "$$\n",
    "E[z_{ijk}] = \\frac{p_{ki}}{1 - \\prod_{l \\in M_j} (1 - p_{li})}\n",
    "$$"
   ]
  },
  {
   "cell_type": "code",
   "execution_count": 25,
   "metadata": {},
   "outputs": [],
   "source": [
    "enc = OneHotEncoder(handle_unknown='ignore')\n",
    "enc.fit(df_answers[['p_idx', 'q_idx']])\n",
    "X = enc.transform(df_answers[['p_idx', 'q_idx']])"
   ]
  },
  {
   "cell_type": "code",
   "execution_count": 26,
   "metadata": {},
   "outputs": [],
   "source": [
    "counts = np.array((X != 0).sum(axis=0)).ravel()"
   ]
  },
  {
   "cell_type": "code",
   "execution_count": 27,
   "metadata": {},
   "outputs": [],
   "source": [
    "w = np.random.randn(X.shape[1])\n",
    "p = 1 / (1 + np.exp(-X.dot(w)))"
   ]
  },
  {
   "cell_type": "code",
   "execution_count": 28,
   "metadata": {
    "scrolled": true
   },
   "outputs": [],
   "source": [
    "df_answers['p_neg'] = 1 - p\n",
    "dff = df_answers[['t_idx', 'q_idx', 'p_neg']].groupby(by=['t_idx', 'q_idx'], sort=False, as_index=False).prod()\n",
    "idx_from = (dff['t_idx'].apply(str) + dff['q_idx'].apply(str)).apply(int)\n",
    "idx_to = (df_answers['t_idx'].apply(str) + df_answers['q_idx'].apply(str)).apply(int)"
   ]
  },
  {
   "cell_type": "code",
   "execution_count": 29,
   "metadata": {},
   "outputs": [],
   "source": [
    "def e_step(p):\n",
    "    df_answers['p_neg'] = 1 - p\n",
    "    prods = df_answers[['t_idx', 'q_idx', 'p_neg']].groupby(by=['t_idx', 'q_idx'], sort=False, as_index=False).prod()['p_neg']\n",
    "    prods.index = idx_from\n",
    "    prods = prods[idx_to].to_numpy()\n",
    "    z = p / (1 - prods)\n",
    "    z[df_answers['ans'] == 0] = 0\n",
    "    return z"
   ]
  },
  {
   "cell_type": "code",
   "execution_count": 30,
   "metadata": {
    "scrolled": true
   },
   "outputs": [
    {
     "name": "stdout",
     "output_type": "stream",
     "text": [
      "p: [0.88908464 0.19897285 0.79171766 ... 0.79547418 0.47955342 0.79473751]\n",
      "z: [0.89017358 0.19921655 0.79268735 ... 0.         0.         0.        ]\n",
      "CPU times: user 3.26 s, sys: 292 ms, total: 3.55 s\n",
      "Wall time: 3.55 s\n"
     ]
    }
   ],
   "source": [
    "%%time\n",
    "z = e_step(p)\n",
    "print(f'p: {p}')\n",
    "print(f'z: {z}')"
   ]
  },
  {
   "cell_type": "markdown",
   "metadata": {},
   "source": [
    "Из-за того, что разные игроки играют в разное количество турниров, оптимальный шаг градиентного подъёма для каждого игрока свой (у тех кто больше играют - градиент больше, у других меньше), поэтому я нормирую градиент дополнительно на количество ненулевых элементов соответствующего признака. На практике это ускорило сходимость."
   ]
  },
  {
   "cell_type": "code",
   "execution_count": 31,
   "metadata": {},
   "outputs": [],
   "source": [
    "def m_step(X, w, z, n_iters=50, alpha=3):\n",
    "    w = w.copy()\n",
    "    for _ in range(n_iters):\n",
    "        p = 1 / (1 + np.exp(-X.dot(w)))\n",
    "        grad = (X.T).dot(z * (1 - p) - (1 - z) * p) / counts\n",
    "        w = w + alpha * grad\n",
    "    return w"
   ]
  },
  {
   "cell_type": "code",
   "execution_count": 32,
   "metadata": {},
   "outputs": [],
   "source": [
    "def log_likelihood(z, X, w):\n",
    "    p = 1 / (1 + np.exp(-X.dot(w)))\n",
    "    return np.mean(z * np.log(p) + (1 - z) * np.log(1 - p))"
   ]
  },
  {
   "cell_type": "code",
   "execution_count": 33,
   "metadata": {
    "scrolled": false
   },
   "outputs": [
    {
     "name": "stdout",
     "output_type": "stream",
     "text": [
      "CPU times: user 1.45 s, sys: 136 ms, total: 1.59 s\n",
      "Wall time: 1.59 s\n"
     ]
    },
    {
     "data": {
      "text/plain": [
       "-0.7562908218577705"
      ]
     },
     "execution_count": 33,
     "metadata": {},
     "output_type": "execute_result"
    }
   ],
   "source": [
    "%%time\n",
    "log_likelihood(z, X, w)"
   ]
  },
  {
   "cell_type": "code",
   "execution_count": 34,
   "metadata": {},
   "outputs": [
    {
     "data": {
      "application/vnd.jupyter.widget-view+json": {
       "model_id": "de656a06727a44ca96953c60a9a60b34",
       "version_major": 2,
       "version_minor": 0
      },
      "text/plain": [
       "HBox(children=(FloatProgress(value=0.0, max=50.0), HTML(value='')))"
      ]
     },
     "metadata": {},
     "output_type": "display_data"
    },
    {
     "name": "stdout",
     "output_type": "stream",
     "text": [
      "Log likelihood after cycle   1: -0.3648809316746004.\n",
      "Log likelihood after cycle   2: -0.3202500676338638.\n",
      "Log likelihood after cycle   3: -0.30916240483268165.\n",
      "Log likelihood after cycle   4: -0.3051199744471454.\n",
      "Log likelihood after cycle   5: -0.3032112823719117.\n",
      "Log likelihood after cycle   6: -0.3021193640752063.\n",
      "Log likelihood after cycle   7: -0.30139471175276533.\n",
      "Log likelihood after cycle   8: -0.30085495182100574.\n",
      "Log likelihood after cycle   9: -0.30041577219920285.\n",
      "Log likelihood after cycle  10: -0.3000343516862247.\n",
      "Log likelihood after cycle  11: -0.29968751106015373.\n",
      "Log likelihood after cycle  12: -0.29936216963949885.\n",
      "Log likelihood after cycle  13: -0.299050743996244.\n",
      "Log likelihood after cycle  14: -0.29874875635945525.\n",
      "Log likelihood after cycle  15: -0.29845352983332696.\n",
      "Log likelihood after cycle  16: -0.2981634589403225.\n",
      "Log likelihood after cycle  17: -0.2978775944356509.\n",
      "Log likelihood after cycle  18: -0.29759539680093466.\n",
      "Log likelihood after cycle  19: -0.29731657726592464.\n",
      "Log likelihood after cycle  20: -0.2970409880385078.\n",
      "Log likelihood after cycle  21: -0.2967685488983823.\n",
      "Log likelihood after cycle  22: -0.2964992039614583.\n",
      "Log likelihood after cycle  23: -0.2962329000010154.\n",
      "Log likelihood after cycle  24: -0.2959695777497827.\n",
      "Log likelihood after cycle  25: -0.2957091705867106.\n",
      "Log likelihood after cycle  26: -0.2954516071562184.\n",
      "Log likelihood after cycle  27: -0.2951968155053064.\n",
      "Log likelihood after cycle  28: -0.29494472736188193.\n",
      "Log likelihood after cycle  29: -0.29469528190893224.\n",
      "Log likelihood after cycle  30: -0.29444842845441643.\n",
      "Log likelihood after cycle  31: -0.29420412743005336.\n",
      "Log likelihood after cycle  32: -0.2939623497526688.\n",
      "Log likelihood after cycle  33: -0.2937230752487233.\n",
      "Log likelihood after cycle  34: -0.29348629084230127.\n",
      "Log likelihood after cycle  35: -0.29325198871258024.\n",
      "Log likelihood after cycle  36: -0.29302016430813704.\n",
      "Log likelihood after cycle  37: -0.29279081413921054.\n",
      "Log likelihood after cycle  38: -0.292563933385643.\n",
      "Log likelihood after cycle  39: -0.2923395134864611.\n",
      "Log likelihood after cycle  40: -0.29211754010203395.\n",
      "Log likelihood after cycle  41: -0.29189799194294336.\n",
      "Log likelihood after cycle  42: -0.2916808406999803.\n",
      "Log likelihood after cycle  43: -0.29146605189173197.\n",
      "Log likelihood after cycle  44: -0.2912535862205235.\n",
      "Log likelihood after cycle  45: -0.2910434010363857.\n",
      "Log likelihood after cycle  46: -0.29083545158747576.\n",
      "Log likelihood after cycle  47: -0.29062969183787374.\n",
      "Log likelihood after cycle  48: -0.29042607483292443.\n",
      "Log likelihood after cycle  49: -0.29022455283685816.\n",
      "Log likelihood after cycle  50: -0.2900250775533959.\n",
      "\n"
     ]
    }
   ],
   "source": [
    "n_cycles = 50\n",
    "for i in tqdm(range(n_cycles)):\n",
    "    if i == 0:\n",
    "        p = 1 / (1 + np.exp(-X.dot(w)))\n",
    "        z = e_step(p)\n",
    "    w = m_step(X, w, z)\n",
    "    p = 1 / (1 + np.exp(-X.dot(w)))\n",
    "    z = e_step(p)\n",
    "    print(f'Log likelihood after cycle {i+1:3}: {log_likelihood(z, X, w)}.')"
   ]
  },
  {
   "cell_type": "code",
   "execution_count": 35,
   "metadata": {},
   "outputs": [],
   "source": [
    "idx_to_position = {}\n",
    "for i, fname in enumerate(enc.get_feature_names()):\n",
    "    idx_to_position[int(fname[3:])] = i"
   ]
  },
  {
   "cell_type": "code",
   "execution_count": 36,
   "metadata": {
    "scrolled": false
   },
   "outputs": [],
   "source": [
    "p_weights = pd.Series(np.zeros(len(df_answers['p_idx'].unique())),\n",
    "                      df_answers['p_idx'].unique())\n",
    "for player in df_answers['p_idx'].unique():\n",
    "    p_weights[player] = w[idx_to_position[player]]"
   ]
  },
  {
   "cell_type": "code",
   "execution_count": 37,
   "metadata": {},
   "outputs": [],
   "source": [
    "q_weights = pd.Series(np.zeros(len(df_answers['q_idx'].unique())),\n",
    "                      df_answers['q_idx'].unique())\n",
    "for question in df_answers['q_idx'].unique():\n",
    "    q_weights[question] = w[idx_to_position[question]]"
   ]
  },
  {
   "cell_type": "markdown",
   "metadata": {},
   "source": [
    "Найдём распределение сложности вопросов"
   ]
  },
  {
   "cell_type": "code",
   "execution_count": 38,
   "metadata": {},
   "outputs": [
    {
     "data": {
      "text/plain": [
       "<matplotlib.axes._subplots.AxesSubplot at 0x7f08864463a0>"
      ]
     },
     "execution_count": 38,
     "metadata": {},
     "output_type": "execute_result"
    },
    {
     "data": {
      "image/png": "[encoded data removed]",
      "text/plain": [
       "<Figure size 432x288 with 1 Axes>"
      ]
     },
     "metadata": {
      "needs_background": "light"
     },
     "output_type": "display_data"
    }
   ],
   "source": [
    "q_weights.hist(bins=50)"
   ]
  },
  {
   "cell_type": "markdown",
   "metadata": {},
   "source": [
    "Также как и для бейзлайна, для определения рейтинга игрока численно проинтегрируем вероятность игрока ответить на вопрос по распределению сложностей."
   ]
  },
  {
   "cell_type": "code",
   "execution_count": 39,
   "metadata": {},
   "outputs": [
    {
     "name": "stdout",
     "output_type": "stream",
     "text": [
      "Sanity check: 0.9999684771301579\n"
     ]
    }
   ],
   "source": [
    "n_bins = 50\n",
    "space = np.linspace(q_weights.min(), q_weights.max(), n_bins+1)\n",
    "bounds = np.stack([space[:-1], space[1:]]).T\n",
    "diff_space = bounds.mean(axis=1)\n",
    "diff_probs = np.array([((q_weights >= bound[0]) & (q_weights < bound[1])).sum() for bound in bounds])\n",
    "diff_probs = diff_probs / len(q_weights)\n",
    "print(f'Sanity check: {diff_probs.sum()}')"
   ]
  },
  {
   "cell_type": "code",
   "execution_count": 40,
   "metadata": {
    "scrolled": true
   },
   "outputs": [
    {
     "data": {
      "image/png": "[encoded data removed]",
      "text/plain": [
       "<Figure size 432x288 with 1 Axes>"
      ]
     },
     "metadata": {
      "needs_background": "light"
     },
     "output_type": "display_data"
    }
   ],
   "source": [
    "plt.plot(diff_space, diff_probs)\n",
    "plt.title('Empirical probabilities')\n",
    "plt.show()"
   ]
  },
  {
   "cell_type": "code",
   "execution_count": 41,
   "metadata": {
    "scrolled": true
   },
   "outputs": [],
   "source": [
    "p_rates = pd.Series(np.zeros(len(df_answers['p_idx'].unique()), dtype=float),\n",
    "                      index=df_answers['p_idx'].unique())\n",
    "for idx in df_answers['p_idx'].unique():\n",
    "    preds = 1 / (1 + np.exp(-(p_weights[idx] + diff_space)))\n",
    "    rate = np.dot(preds, diff_probs)\n",
    "    p_rates[idx] = rate"
   ]
  },
  {
   "cell_type": "code",
   "execution_count": 42,
   "metadata": {},
   "outputs": [],
   "source": [
    "p_rates.to_csv('data/p_rates_em.csv')"
   ]
  },
  {
   "cell_type": "markdown",
   "metadata": {},
   "source": [
    "Распределение рейтингов"
   ]
  },
  {
   "cell_type": "code",
   "execution_count": 43,
   "metadata": {},
   "outputs": [
    {
     "data": {
      "text/plain": [
       "<matplotlib.axes._subplots.AxesSubplot at 0x7f0765a862e0>"
      ]
     },
     "execution_count": 43,
     "metadata": {},
     "output_type": "execute_result"
    },
    {
     "data": {
      "image/png": "[encoded data removed]",
      "text/plain": [
       "<Figure size 432x288 with 1 Axes>"
      ]
     },
     "metadata": {
      "needs_background": "light"
     },
     "output_type": "display_data"
    }
   ],
   "source": [
    "p_rates.hist(bins=50)"
   ]
  },
  {
   "cell_type": "markdown",
   "metadata": {},
   "source": [
    "Посмотрим на рейтинг игроков, находящихся в первой десятке по официальному рейтингу на сайте рейтинга чгк:"
   ]
  },
  {
   "cell_type": "code",
   "execution_count": 44,
   "metadata": {},
   "outputs": [
    {
     "name": "stdout",
     "output_type": "stream",
     "text": [
      "1. Артём Сергеевич Сорожкин: 0.540429635920944\n",
      "2. Сергей Леонидович Спешков: 0.37565992644990165\n",
      "3. Иван Николаевич Семушин: 0.6209956791343053\n",
      "4. Михаил Владимирович Савченков: 0.3005981606515755\n",
      "5. Максим Михайлович Руссо: 0.36332658523050715\n",
      "6. Александра Владимировна Брутер: 0.07670408705023506\n",
      "7. Александр Витальевич Либер: 0.3289321052436378\n",
      "8. Михаил Ильич Левандовский: 0.40373870031202297\n",
      "9. Ким Гагикович Галачян: 0.3127302244991639\n",
      "10. Сергей Игоревич Николенко: 0.39350318103029314\n"
     ]
    }
   ],
   "source": [
    "top_idxs = [30152, 30270, 28751, 27822, 27403, 4270, 18332, 18036, 6482, 22799]\n",
    "for place, idx in enumerate(top_idxs, 1):\n",
    "    player = players[idx]\n",
    "    print(f\"{place}. {player['name']} {player['patronymic']} {player['surname']}: {p_rates[idx]}\")"
   ]
  },
  {
   "cell_type": "code",
   "execution_count": 45,
   "metadata": {},
   "outputs": [
    {
     "name": "stderr",
     "output_type": "stream",
     "text": [
      "/home/uladzislaw/anaconda3/envs/dl_py38/lib/python3.8/site-packages/numpy/lib/function_base.py:2534: RuntimeWarning: invalid value encountered in true_divide\n",
      "  c /= stddev[:, None]\n",
      "/home/uladzislaw/anaconda3/envs/dl_py38/lib/python3.8/site-packages/numpy/lib/function_base.py:2535: RuntimeWarning: invalid value encountered in true_divide\n",
      "  c /= stddev[None, :]\n",
      "/home/uladzislaw/anaconda3/envs/dl_py38/lib/python3.8/site-packages/scipy/stats/_distn_infrastructure.py:903: RuntimeWarning: invalid value encountered in greater\n",
      "  return (a < x) & (x < b)\n",
      "/home/uladzislaw/anaconda3/envs/dl_py38/lib/python3.8/site-packages/scipy/stats/_distn_infrastructure.py:903: RuntimeWarning: invalid value encountered in less\n",
      "  return (a < x) & (x < b)\n",
      "/home/uladzislaw/anaconda3/envs/dl_py38/lib/python3.8/site-packages/scipy/stats/_distn_infrastructure.py:1912: RuntimeWarning: invalid value encountered in less_equal\n",
      "  cond2 = cond0 & (x <= _a)\n"
     ]
    },
    {
     "name": "stdout",
     "output_type": "stream",
     "text": [
      "Average Spearman correlation: 0.7593582892587583\n",
      "Average Kendall correlation: 0.6035367804930335\n"
     ]
    }
   ],
   "source": [
    "num_tournaments = 0\n",
    "spearman_coef = 0\n",
    "kendall_coef = 0\n",
    "for t_idx in tournaments_test.keys():\n",
    "    if not results[t_idx]:\n",
    "        continue\n",
    "    if not 'position' in results[t_idx][0].keys():\n",
    "        continue\n",
    "    ranks_pred = np.zeros(len(results[t_idx]))\n",
    "    ranks_true = np.zeros(len(results[t_idx]))\n",
    "    for i, result in enumerate(results[t_idx]):\n",
    "        ranks_true[i] = result['position']\n",
    "        ranks_pred[i] = evaluate_team(result['teamMembers'])\n",
    "    spearman_coef_curr = sps.spearmanr(ranks_pred, -ranks_true)[0]\n",
    "    kendall_coef_curr = sps.kendalltau(ranks_pred, -ranks_true)[0]\n",
    "    if not (np.isnan(spearman_coef_curr) or np.isnan(kendall_coef_curr)):\n",
    "        spearman_coef += spearman_coef_curr\n",
    "        kendall_coef += kendall_coef_curr\n",
    "        num_tournaments += 1\n",
    "print(f'Average Spearman correlation: {spearman_coef/num_tournaments}')\n",
    "print(f'Average Kendall correlation: {kendall_coef/num_tournaments}')"
   ]
  },
  {
   "cell_type": "markdown",
   "metadata": {},
   "source": [
    "# Task 5"
   ]
  },
  {
   "cell_type": "markdown",
   "metadata": {},
   "source": [
    "А что там с вопросами? Постройте “рейтинг-лист” турниров по сложности вопросов. Соответствует ли он интуиции (например, на чемпионате мира в целом должны быть сложные вопросы, а на турнирах для школьников — простые)? Если будет интересно: постройте топ сложных и простых вопросов со ссылками на конкретные записи в базе вопросов ЧГК (это чисто техническое дело, тут никакого ML нету)."
   ]
  },
  {
   "cell_type": "code",
   "execution_count": 46,
   "metadata": {},
   "outputs": [],
   "source": [
    "tournament_diffs = {}\n",
    "for tournament in tournaments_train.keys():\n",
    "    tournament_diff = 0\n",
    "    n_questions = 0\n",
    "    if len(results[tournament]) == 0:\n",
    "        continue\n",
    "    if not 'mask' in results[tournament][0].keys():\n",
    "        continue\n",
    "    for i in range(len(results[tournament][0]['mask'] or [])):\n",
    "        q_idx = tournament*10000 + i\n",
    "        try:\n",
    "            tournament_diff -= w[idx_to_position[q_idx]]\n",
    "            n_questions += 1\n",
    "        except KeyError:\n",
    "            pass\n",
    "    if n_questions > 0:\n",
    "        tournament_diffs[tournament] = tournament_diff / n_questions"
   ]
  },
  {
   "cell_type": "code",
   "execution_count": 47,
   "metadata": {},
   "outputs": [],
   "source": [
    "tournament_diffs = pd.Series(tournament_diffs).sort_values(ascending=False)"
   ]
  },
  {
   "cell_type": "code",
   "execution_count": 48,
   "metadata": {},
   "outputs": [
    {
     "name": "stdout",
     "output_type": "stream",
     "text": [
      "Самые сложные турниры:\n",
      " 1. Чемпионат Санкт-Петербурга. Первая лига\n",
      " 2. (А) Славянка без раздаток. 4 этап\n",
      " 3. Угрюмый Ёрш\n",
      " 4. Зеркало мемориала памяти Михаила Басса\n",
      " 5. Воображаемый музей\n",
      " 6. Седьмая октава: Кубок Равноденствия. Лига Наций: Прибалтика\n",
      " 7. Чемпионат Таджикистана\n",
      " 8. Чемпионат Мира. Этап 2 Группа С\n",
      " 9. Первенство правого полушария\n",
      "10. Чемпионат Мира. Этап 2. Группа В\n"
     ]
    }
   ],
   "source": [
    "print('Самые сложные турниры:')\n",
    "for i, tournament in enumerate(tournament_diffs.index[:10], 1):\n",
    "    print(f'{i:2}. {tournaments[tournament][\"name\"]}')"
   ]
  },
  {
   "cell_type": "code",
   "execution_count": 49,
   "metadata": {},
   "outputs": [
    {
     "name": "stdout",
     "output_type": "stream",
     "text": [
      "Самые простые турниры:\n",
      " 1. Синхрон Лиги Разума\n",
      " 2. Школьная лига. III тур.\n",
      " 3. (а)Синхрон-lite. Лига старта. Эпизод V\n",
      " 4. Школьная лига. I тур.\n",
      " 5. Школьный Синхрон-lite. Выпуск 2.5\n",
      " 6. One ring - async\n",
      " 7. Школьная лига\n",
      " 8. Межфакультетский кубок МГУ. Отбор №4\n",
      " 9. Школьная лига. II тур.\n",
      "10. (а)Синхрон-lite. Лига старта. Эпизод VII\n"
     ]
    }
   ],
   "source": [
    "print('Самые простые турниры:')\n",
    "for i, tournament in enumerate(tournament_diffs.index[-1:-11:-1], 1):\n",
    "    print(f'{i:2}. {tournaments[tournament][\"name\"]}')"
   ]
  },
  {
   "cell_type": "markdown",
   "metadata": {},
   "source": [
    "Результаты действительно соответствуют интуиции."
   ]
  },
  {
   "cell_type": "markdown",
   "metadata": {},
   "source": [
    "# Task 6"
   ]
  },
  {
   "cell_type": "code",
   "execution_count": 50,
   "metadata": {},
   "outputs": [],
   "source": [
    "def make_top_table(min_questions, length=20):\n",
    "    df_res = {\n",
    "        'place': [],\n",
    "        'name': [],\n",
    "        'patronymic': [],\n",
    "        'surname': [],\n",
    "        'rate': [],\n",
    "        'questions': [],\n",
    "    }\n",
    "    global p_rates\n",
    "    p_rates = p_rates.sort_values(ascending=False)\n",
    "    for p_idx in p_rates.index:\n",
    "        questions = (df_answers['p_idx'] == p_idx).sum()\n",
    "        if questions >= min_questions:\n",
    "            df_res['place'].append(len(df_res['place']) + 1)\n",
    "            df_res['name'].append(players[p_idx]['name'])\n",
    "            df_res['patronymic'].append(players[p_idx]['patronymic'])\n",
    "            df_res['surname'].append(players[p_idx]['surname'])\n",
    "            df_res['rate'].append(p_rates[p_idx])\n",
    "            df_res['questions'].append(questions)\n",
    "            if len(df_res['place']) == length:\n",
    "                break\n",
    "    df_res = pd.DataFrame(df_res)\n",
    "    df_res.index = df_res['place']\n",
    "    df_res = df_res.drop(['place'], axis=1)\n",
    "    return df_res"
   ]
  },
  {
   "cell_type": "code",
   "execution_count": 51,
   "metadata": {
    "scrolled": false
   },
   "outputs": [
    {
     "data": {
      "text/html": [
       "<div>\n",
       "<style scoped>\n",
       "    .dataframe tbody tr th:only-of-type {\n",
       "        vertical-align: middle;\n",
       "    }\n",
       "\n",
       "    .dataframe tbody tr th {\n",
       "        vertical-align: top;\n",
       "    }\n",
       "\n",
       "    .dataframe thead th {\n",
       "        text-align: right;\n",
       "    }\n",
       "</style>\n",
       "<table border=\"1\" class=\"dataframe\">\n",
       "  <thead>\n",
       "    <tr style=\"text-align: right;\">\n",
       "      <th></th>\n",
       "      <th>name</th>\n",
       "      <th>patronymic</th>\n",
       "      <th>surname</th>\n",
       "      <th>rate</th>\n",
       "      <th>questions</th>\n",
       "    </tr>\n",
       "    <tr>\n",
       "      <th>place</th>\n",
       "      <th></th>\n",
       "      <th></th>\n",
       "      <th></th>\n",
       "      <th></th>\n",
       "      <th></th>\n",
       "    </tr>\n",
       "  </thead>\n",
       "  <tbody>\n",
       "    <tr>\n",
       "      <th>1</th>\n",
       "      <td>Юрий</td>\n",
       "      <td>Леонидович</td>\n",
       "      <td>Фёдоров</td>\n",
       "      <td>0.988152</td>\n",
       "      <td>6</td>\n",
       "    </tr>\n",
       "    <tr>\n",
       "      <th>2</th>\n",
       "      <td>Вячеслав</td>\n",
       "      <td>Игоревич</td>\n",
       "      <td>Филитов</td>\n",
       "      <td>0.980972</td>\n",
       "      <td>1</td>\n",
       "    </tr>\n",
       "    <tr>\n",
       "      <th>3</th>\n",
       "      <td>Роман</td>\n",
       "      <td>Валерьевич</td>\n",
       "      <td>Тронин</td>\n",
       "      <td>0.978967</td>\n",
       "      <td>1</td>\n",
       "    </tr>\n",
       "    <tr>\n",
       "      <th>4</th>\n",
       "      <td>Рита</td>\n",
       "      <td></td>\n",
       "      <td>Полонская</td>\n",
       "      <td>0.978667</td>\n",
       "      <td>1</td>\n",
       "    </tr>\n",
       "    <tr>\n",
       "      <th>5</th>\n",
       "      <td>Анна</td>\n",
       "      <td>Ивановна</td>\n",
       "      <td>Пятибратова</td>\n",
       "      <td>0.978342</td>\n",
       "      <td>5</td>\n",
       "    </tr>\n",
       "    <tr>\n",
       "      <th>6</th>\n",
       "      <td>Юлия</td>\n",
       "      <td>Александровна</td>\n",
       "      <td>Чернышёва</td>\n",
       "      <td>0.977314</td>\n",
       "      <td>2</td>\n",
       "    </tr>\n",
       "    <tr>\n",
       "      <th>7</th>\n",
       "      <td>София</td>\n",
       "      <td></td>\n",
       "      <td>Хоперия</td>\n",
       "      <td>0.976260</td>\n",
       "      <td>1</td>\n",
       "    </tr>\n",
       "    <tr>\n",
       "      <th>8</th>\n",
       "      <td>Владимир</td>\n",
       "      <td></td>\n",
       "      <td>Карукес</td>\n",
       "      <td>0.974327</td>\n",
       "      <td>1</td>\n",
       "    </tr>\n",
       "    <tr>\n",
       "      <th>9</th>\n",
       "      <td>Илья</td>\n",
       "      <td>Сергеевич</td>\n",
       "      <td>Кижватов</td>\n",
       "      <td>0.973694</td>\n",
       "      <td>2</td>\n",
       "    </tr>\n",
       "    <tr>\n",
       "      <th>10</th>\n",
       "      <td>Юлия</td>\n",
       "      <td>Валерьевна</td>\n",
       "      <td>Савинова</td>\n",
       "      <td>0.972797</td>\n",
       "      <td>5</td>\n",
       "    </tr>\n",
       "    <tr>\n",
       "      <th>11</th>\n",
       "      <td>Виталий</td>\n",
       "      <td></td>\n",
       "      <td>Широков</td>\n",
       "      <td>0.972393</td>\n",
       "      <td>2</td>\n",
       "    </tr>\n",
       "    <tr>\n",
       "      <th>12</th>\n",
       "      <td>Юрий</td>\n",
       "      <td>Александрович</td>\n",
       "      <td>Кубанков</td>\n",
       "      <td>0.972261</td>\n",
       "      <td>1</td>\n",
       "    </tr>\n",
       "    <tr>\n",
       "      <th>13</th>\n",
       "      <td>Ирина</td>\n",
       "      <td>Николаевна</td>\n",
       "      <td>Сажнёва</td>\n",
       "      <td>0.972037</td>\n",
       "      <td>5</td>\n",
       "    </tr>\n",
       "    <tr>\n",
       "      <th>14</th>\n",
       "      <td>Евдокия</td>\n",
       "      <td></td>\n",
       "      <td>Слепухина</td>\n",
       "      <td>0.970622</td>\n",
       "      <td>1</td>\n",
       "    </tr>\n",
       "    <tr>\n",
       "      <th>15</th>\n",
       "      <td>Олег</td>\n",
       "      <td></td>\n",
       "      <td>Садовец</td>\n",
       "      <td>0.969474</td>\n",
       "      <td>5</td>\n",
       "    </tr>\n",
       "    <tr>\n",
       "      <th>16</th>\n",
       "      <td>Максим</td>\n",
       "      <td></td>\n",
       "      <td>Ковнер</td>\n",
       "      <td>0.969431</td>\n",
       "      <td>1</td>\n",
       "    </tr>\n",
       "    <tr>\n",
       "      <th>17</th>\n",
       "      <td>Елизавета</td>\n",
       "      <td>Андреевна</td>\n",
       "      <td>Кравцова</td>\n",
       "      <td>0.967007</td>\n",
       "      <td>5</td>\n",
       "    </tr>\n",
       "    <tr>\n",
       "      <th>18</th>\n",
       "      <td>Дарья</td>\n",
       "      <td>Владимировна</td>\n",
       "      <td>Ерёменко</td>\n",
       "      <td>0.962787</td>\n",
       "      <td>5</td>\n",
       "    </tr>\n",
       "    <tr>\n",
       "      <th>19</th>\n",
       "      <td>Алексей</td>\n",
       "      <td>Вячеславович</td>\n",
       "      <td>Синицин</td>\n",
       "      <td>0.962143</td>\n",
       "      <td>1</td>\n",
       "    </tr>\n",
       "    <tr>\n",
       "      <th>20</th>\n",
       "      <td>Андрей</td>\n",
       "      <td>Валерьевич</td>\n",
       "      <td>Василевский</td>\n",
       "      <td>0.959426</td>\n",
       "      <td>2</td>\n",
       "    </tr>\n",
       "  </tbody>\n",
       "</table>\n",
       "</div>"
      ],
      "text/plain": [
       "            name     patronymic      surname      rate  questions\n",
       "place                                                            \n",
       "1           Юрий     Леонидович      Фёдоров  0.988152          6\n",
       "2       Вячеслав       Игоревич      Филитов  0.980972          1\n",
       "3          Роман     Валерьевич       Тронин  0.978967          1\n",
       "4           Рита                   Полонская  0.978667          1\n",
       "5           Анна       Ивановна  Пятибратова  0.978342          5\n",
       "6           Юлия  Александровна    Чернышёва  0.977314          2\n",
       "7          София                     Хоперия  0.976260          1\n",
       "8       Владимир                     Карукес  0.974327          1\n",
       "9           Илья      Сергеевич     Кижватов  0.973694          2\n",
       "10          Юлия     Валерьевна     Савинова  0.972797          5\n",
       "11       Виталий                     Широков  0.972393          2\n",
       "12          Юрий  Александрович     Кубанков  0.972261          1\n",
       "13         Ирина     Николаевна      Сажнёва  0.972037          5\n",
       "14       Евдокия                   Слепухина  0.970622          1\n",
       "15          Олег                     Садовец  0.969474          5\n",
       "16        Максим                      Ковнер  0.969431          1\n",
       "17     Елизавета      Андреевна     Кравцова  0.967007          5\n",
       "18         Дарья   Владимировна     Ерёменко  0.962787          5\n",
       "19       Алексей   Вячеславович      Синицин  0.962143          1\n",
       "20        Андрей     Валерьевич  Василевский  0.959426          2"
      ]
     },
     "execution_count": 51,
     "metadata": {},
     "output_type": "execute_result"
    }
   ],
   "source": [
    "make_top_table(min_questions=0)"
   ]
  },
  {
   "cell_type": "markdown",
   "metadata": {},
   "source": [
    "Как видно, в топ попали игроки, у которых очень мало сыграных вопросов. Попробуем брать в топ исключительно тех игроков, у кого сыграно более 1000 вопросов."
   ]
  },
  {
   "cell_type": "code",
   "execution_count": 52,
   "metadata": {},
   "outputs": [
    {
     "data": {
      "text/html": [
       "<div>\n",
       "<style scoped>\n",
       "    .dataframe tbody tr th:only-of-type {\n",
       "        vertical-align: middle;\n",
       "    }\n",
       "\n",
       "    .dataframe tbody tr th {\n",
       "        vertical-align: top;\n",
       "    }\n",
       "\n",
       "    .dataframe thead th {\n",
       "        text-align: right;\n",
       "    }\n",
       "</style>\n",
       "<table border=\"1\" class=\"dataframe\">\n",
       "  <thead>\n",
       "    <tr style=\"text-align: right;\">\n",
       "      <th></th>\n",
       "      <th>name</th>\n",
       "      <th>patronymic</th>\n",
       "      <th>surname</th>\n",
       "      <th>rate</th>\n",
       "      <th>questions</th>\n",
       "    </tr>\n",
       "    <tr>\n",
       "      <th>place</th>\n",
       "      <th></th>\n",
       "      <th></th>\n",
       "      <th></th>\n",
       "      <th></th>\n",
       "      <th></th>\n",
       "    </tr>\n",
       "  </thead>\n",
       "  <tbody>\n",
       "    <tr>\n",
       "      <th>1</th>\n",
       "      <td>Иван</td>\n",
       "      <td>Николаевич</td>\n",
       "      <td>Семушин</td>\n",
       "      <td>0.620996</td>\n",
       "      <td>3718</td>\n",
       "    </tr>\n",
       "    <tr>\n",
       "      <th>2</th>\n",
       "      <td>Игорь</td>\n",
       "      <td>Викторович</td>\n",
       "      <td>Мокин</td>\n",
       "      <td>0.593373</td>\n",
       "      <td>1220</td>\n",
       "    </tr>\n",
       "    <tr>\n",
       "      <th>3</th>\n",
       "      <td>Артём</td>\n",
       "      <td>Сергеевич</td>\n",
       "      <td>Сорожкин</td>\n",
       "      <td>0.540430</td>\n",
       "      <td>4708</td>\n",
       "    </tr>\n",
       "    <tr>\n",
       "      <th>4</th>\n",
       "      <td>Александр</td>\n",
       "      <td>Валерьевич</td>\n",
       "      <td>Марков</td>\n",
       "      <td>0.536170</td>\n",
       "      <td>2877</td>\n",
       "    </tr>\n",
       "    <tr>\n",
       "      <th>5</th>\n",
       "      <td>Александр</td>\n",
       "      <td>Геннадьевич</td>\n",
       "      <td>Коробейников</td>\n",
       "      <td>0.534395</td>\n",
       "      <td>1392</td>\n",
       "    </tr>\n",
       "    <tr>\n",
       "      <th>6</th>\n",
       "      <td>Александр</td>\n",
       "      <td>Ефимович</td>\n",
       "      <td>Мартынов</td>\n",
       "      <td>0.521074</td>\n",
       "      <td>1467</td>\n",
       "    </tr>\n",
       "    <tr>\n",
       "      <th>7</th>\n",
       "      <td>Антон</td>\n",
       "      <td>Андреевич</td>\n",
       "      <td>Мартыненко</td>\n",
       "      <td>0.518884</td>\n",
       "      <td>2403</td>\n",
       "    </tr>\n",
       "    <tr>\n",
       "      <th>8</th>\n",
       "      <td>Станислав</td>\n",
       "      <td>Григорьевич</td>\n",
       "      <td>Мереминский</td>\n",
       "      <td>0.515665</td>\n",
       "      <td>1616</td>\n",
       "    </tr>\n",
       "    <tr>\n",
       "      <th>9</th>\n",
       "      <td>Мария</td>\n",
       "      <td>Владимировна</td>\n",
       "      <td>Кленницкая</td>\n",
       "      <td>0.513727</td>\n",
       "      <td>1047</td>\n",
       "    </tr>\n",
       "    <tr>\n",
       "      <th>10</th>\n",
       "      <td>Юрий</td>\n",
       "      <td>Яковлевич</td>\n",
       "      <td>Выменец</td>\n",
       "      <td>0.508207</td>\n",
       "      <td>3022</td>\n",
       "    </tr>\n",
       "    <tr>\n",
       "      <th>11</th>\n",
       "      <td>Алексей</td>\n",
       "      <td>Владимирович</td>\n",
       "      <td>Гилёв</td>\n",
       "      <td>0.506765</td>\n",
       "      <td>4334</td>\n",
       "    </tr>\n",
       "    <tr>\n",
       "      <th>12</th>\n",
       "      <td>Максим</td>\n",
       "      <td>Петрович</td>\n",
       "      <td>Мерзляков</td>\n",
       "      <td>0.506302</td>\n",
       "      <td>1260</td>\n",
       "    </tr>\n",
       "    <tr>\n",
       "      <th>13</th>\n",
       "      <td>Наталья</td>\n",
       "      <td>Алексеевна</td>\n",
       "      <td>Кудряшова</td>\n",
       "      <td>0.497611</td>\n",
       "      <td>2431</td>\n",
       "    </tr>\n",
       "    <tr>\n",
       "      <th>14</th>\n",
       "      <td>Дмитрий</td>\n",
       "      <td>Николаевич</td>\n",
       "      <td>Петров</td>\n",
       "      <td>0.497433</td>\n",
       "      <td>2311</td>\n",
       "    </tr>\n",
       "    <tr>\n",
       "      <th>15</th>\n",
       "      <td>Михаил</td>\n",
       "      <td>Андреевич</td>\n",
       "      <td>Новосёлов</td>\n",
       "      <td>0.496233</td>\n",
       "      <td>2986</td>\n",
       "    </tr>\n",
       "    <tr>\n",
       "      <th>16</th>\n",
       "      <td>Илья</td>\n",
       "      <td>Сергеевич</td>\n",
       "      <td>Новиков</td>\n",
       "      <td>0.483190</td>\n",
       "      <td>1447</td>\n",
       "    </tr>\n",
       "    <tr>\n",
       "      <th>17</th>\n",
       "      <td>Михаил</td>\n",
       "      <td>Андреевич</td>\n",
       "      <td>Иванов</td>\n",
       "      <td>0.481866</td>\n",
       "      <td>1047</td>\n",
       "    </tr>\n",
       "    <tr>\n",
       "      <th>18</th>\n",
       "      <td>Александр</td>\n",
       "      <td>Михайлович</td>\n",
       "      <td>Булавчук</td>\n",
       "      <td>0.480192</td>\n",
       "      <td>2316</td>\n",
       "    </tr>\n",
       "    <tr>\n",
       "      <th>19</th>\n",
       "      <td>Владимир</td>\n",
       "      <td>Игоревич</td>\n",
       "      <td>Цвингли</td>\n",
       "      <td>0.478941</td>\n",
       "      <td>1430</td>\n",
       "    </tr>\n",
       "    <tr>\n",
       "      <th>20</th>\n",
       "      <td>Роман</td>\n",
       "      <td>Вячеславович</td>\n",
       "      <td>Фокин</td>\n",
       "      <td>0.476813</td>\n",
       "      <td>2275</td>\n",
       "    </tr>\n",
       "  </tbody>\n",
       "</table>\n",
       "</div>"
      ],
      "text/plain": [
       "            name    patronymic       surname      rate  questions\n",
       "place                                                            \n",
       "1           Иван    Николаевич       Семушин  0.620996       3718\n",
       "2          Игорь    Викторович         Мокин  0.593373       1220\n",
       "3          Артём     Сергеевич      Сорожкин  0.540430       4708\n",
       "4      Александр    Валерьевич        Марков  0.536170       2877\n",
       "5      Александр   Геннадьевич  Коробейников  0.534395       1392\n",
       "6      Александр      Ефимович      Мартынов  0.521074       1467\n",
       "7          Антон     Андреевич    Мартыненко  0.518884       2403\n",
       "8      Станислав   Григорьевич   Мереминский  0.515665       1616\n",
       "9          Мария  Владимировна    Кленницкая  0.513727       1047\n",
       "10          Юрий     Яковлевич       Выменец  0.508207       3022\n",
       "11       Алексей  Владимирович         Гилёв  0.506765       4334\n",
       "12        Максим      Петрович     Мерзляков  0.506302       1260\n",
       "13       Наталья    Алексеевна     Кудряшова  0.497611       2431\n",
       "14       Дмитрий    Николаевич        Петров  0.497433       2311\n",
       "15        Михаил     Андреевич     Новосёлов  0.496233       2986\n",
       "16          Илья     Сергеевич       Новиков  0.483190       1447\n",
       "17        Михаил     Андреевич        Иванов  0.481866       1047\n",
       "18     Александр    Михайлович      Булавчук  0.480192       2316\n",
       "19      Владимир      Игоревич       Цвингли  0.478941       1430\n",
       "20         Роман  Вячеславович         Фокин  0.476813       2275"
      ]
     },
     "execution_count": 52,
     "metadata": {},
     "output_type": "execute_result"
    }
   ],
   "source": [
    "make_top_table(min_questions=1000)"
   ]
  },
  {
   "cell_type": "markdown",
   "metadata": {},
   "source": [
    "Теперь в топ попали действительно хорошие игроки, находящиеся в топе на сайте рейтинга. Но для составления рейтинг-системы было бы несправедливо просто выкинуть тех игроков, кто сыграл мало турниров, но сыграл их хорошо, ведь их тоже нужно как-то сравнивать между собой. Попробуем сделать что-то вроде байесовского сглаживания. Из результатов рейтинга без сглаживания видно, что у большинства игроков вероятность взять случайный вопрос из базы достаточно мала, поэтому ожидается что новые игроки поначалу будут играть плохо. Добавим каждому игроку одинаковое количество неправильно отвеченных вопросов в таблицу (например 150, что соответствует трём турнирам - это число можно подбирать на валидации). Тогда рейтинг всех игроков понизится, но в особенности к этому будет чувствителен рейтинг игроков, сыгравших мало игр."
   ]
  },
  {
   "cell_type": "code",
   "execution_count": 53,
   "metadata": {},
   "outputs": [],
   "source": [
    "enc = OneHotEncoder(handle_unknown='ignore')\n",
    "enc.fit(df_answers[['p_idx', 'q_idx']])\n",
    "X = enc.transform(df_answers[['p_idx', 'q_idx']])\n",
    "main_block_len = X.shape[0]"
   ]
  },
  {
   "cell_type": "code",
   "execution_count": 54,
   "metadata": {},
   "outputs": [],
   "source": [
    "p_for_smoothing = np.repeat(df_answers['p_idx'].unique(), 150)\n",
    "q_for_smoothing = np.zeros(len(p_for_smoothing))\n",
    "X_smooth = enc.transform(np.stack([p_for_smoothing, q_for_smoothing]).T)"
   ]
  },
  {
   "cell_type": "code",
   "execution_count": 55,
   "metadata": {},
   "outputs": [],
   "source": [
    "X_full = vstack([X, X_smooth])"
   ]
  },
  {
   "cell_type": "code",
   "execution_count": 56,
   "metadata": {},
   "outputs": [],
   "source": [
    "counts = np.array((X_full != 0).sum(axis=0)).ravel()"
   ]
  },
  {
   "cell_type": "code",
   "execution_count": 57,
   "metadata": {},
   "outputs": [],
   "source": [
    "w = np.random.randn(X.shape[1])\n",
    "p = 1 / (1 + np.exp(-X.dot(w)))"
   ]
  },
  {
   "cell_type": "code",
   "execution_count": 58,
   "metadata": {},
   "outputs": [
    {
     "name": "stdout",
     "output_type": "stream",
     "text": [
      "p: [0.13614722 0.47746089 0.84968222 ... 0.16718233 0.46375985 0.12593409]\n",
      "z: [0.13681546 0.47980437 0.85385264 ... 0.         0.         0.        ]\n",
      "CPU times: user 3.02 s, sys: 304 ms, total: 3.33 s\n",
      "Wall time: 3.33 s\n"
     ]
    }
   ],
   "source": [
    "%%time\n",
    "z = np.concatenate([e_step(p), np.zeros(len(p_for_smoothing))])\n",
    "print(f'p: {p}')\n",
    "print(f'z: {z}')"
   ]
  },
  {
   "cell_type": "code",
   "execution_count": 59,
   "metadata": {},
   "outputs": [
    {
     "name": "stdout",
     "output_type": "stream",
     "text": [
      "CPU times: user 1.92 s, sys: 172 ms, total: 2.1 s\n",
      "Wall time: 2.1 s\n"
     ]
    },
    {
     "data": {
      "text/plain": [
       "-0.7738803862470797"
      ]
     },
     "execution_count": 59,
     "metadata": {},
     "output_type": "execute_result"
    }
   ],
   "source": [
    "%%time\n",
    "log_likelihood(z, X_full, w)"
   ]
  },
  {
   "cell_type": "code",
   "execution_count": 60,
   "metadata": {},
   "outputs": [
    {
     "data": {
      "application/vnd.jupyter.widget-view+json": {
       "model_id": "0acad24843044ef291b82462cd94cc21",
       "version_major": 2,
       "version_minor": 0
      },
      "text/plain": [
       "HBox(children=(FloatProgress(value=0.0, max=50.0), HTML(value='')))"
      ]
     },
     "metadata": {},
     "output_type": "display_data"
    },
    {
     "name": "stdout",
     "output_type": "stream",
     "text": [
      "Log likelihood after cycle   1: -0.2601408968525136.\n",
      "Log likelihood after cycle   2: -0.22472964155186542.\n",
      "Log likelihood after cycle   3: -0.2159013904510832.\n",
      "Log likelihood after cycle   4: -0.21255061302629052.\n",
      "Log likelihood after cycle   5: -0.21090934167137926.\n",
      "Log likelihood after cycle   6: -0.2099473225095414.\n",
      "Log likelihood after cycle   7: -0.20930229622958785.\n",
      "Log likelihood after cycle   8: -0.2088233802863833.\n",
      "Log likelihood after cycle   9: -0.20843929194747268.\n",
      "Log likelihood after cycle  10: -0.20811300859989262.\n",
      "Log likelihood after cycle  11: -0.20782388945106478.\n",
      "Log likelihood after cycle  12: -0.20755979463607316.\n",
      "Log likelihood after cycle  13: -0.20731328225953163.\n",
      "Log likelihood after cycle  14: -0.20707963637995008.\n",
      "Log likelihood after cycle  15: -0.20685578587940248.\n",
      "Log likelihood after cycle  16: -0.20663968582075085.\n",
      "Log likelihood after cycle  17: -0.20642995051092666.\n",
      "Log likelihood after cycle  18: -0.20622562759447322.\n",
      "Log likelihood after cycle  19: -0.20602605274646515.\n",
      "Log likelihood after cycle  20: -0.205830752220368.\n",
      "Log likelihood after cycle  21: -0.2056393763473858.\n",
      "Log likelihood after cycle  22: -0.20545165522701453.\n",
      "Log likelihood after cycle  23: -0.20526737096266662.\n",
      "Log likelihood after cycle  24: -0.20508634152388652.\n",
      "Log likelihood after cycle  25: -0.20490841152503336.\n",
      "Log likelihood after cycle  26: -0.20473344580169284.\n",
      "Log likelihood after cycle  27: -0.20456132331944538.\n",
      "Log likelihood after cycle  28: -0.20439193161253805.\n",
      "Log likelihood after cycle  29: -0.20422516373986097.\n",
      "Log likelihood after cycle  30: -0.20406091893766298.\n",
      "Log likelihood after cycle  31: -0.20389910598565472.\n",
      "Log likelihood after cycle  32: -0.20373964714841275.\n",
      "Log likelihood after cycle  33: -0.20358248080996783.\n",
      "Log likelihood after cycle  34: -0.2034275616628682.\n",
      "Log likelihood after cycle  35: -0.20327485803938203.\n",
      "Log likelihood after cycle  36: -0.20312434672253393.\n",
      "Log likelihood after cycle  37: -0.20297600636048724.\n",
      "Log likelihood after cycle  38: -0.20282981116635518.\n",
      "Log likelihood after cycle  39: -0.2026857265303602.\n",
      "Log likelihood after cycle  40: -0.2025437074069338.\n",
      "Log likelihood after cycle  41: -0.20240369929313687.\n",
      "Log likelihood after cycle  42: -0.2022656408819214.\n",
      "Log likelihood after cycle  43: -0.20212946728835152.\n",
      "Log likelihood after cycle  44: -0.2019951129481197.\n",
      "Log likelihood after cycle  45: -0.20186251365310937.\n",
      "Log likelihood after cycle  46: -0.20173160759106956.\n",
      "Log likelihood after cycle  47: -0.20160233558382692.\n",
      "Log likelihood after cycle  48: -0.20147464087764305.\n",
      "Log likelihood after cycle  49: -0.20134846883456992.\n",
      "Log likelihood after cycle  50: -0.201223766774977.\n",
      "\n"
     ]
    }
   ],
   "source": [
    "n_cycles = 50\n",
    "for i in tqdm(range(n_cycles)):\n",
    "    if i == 0:\n",
    "        p = 1 / (1 + np.exp(-X.dot(w)))\n",
    "        z = np.concatenate([e_step(p), np.zeros(len(p_for_smoothing))])\n",
    "    w = m_step(X_full, w, z)\n",
    "    p = 1 / (1 + np.exp(-X.dot(w)))\n",
    "    z = np.concatenate([e_step(p), np.zeros(len(p_for_smoothing))])\n",
    "    print(f'Log likelihood after cycle {i+1:3}: {log_likelihood(z, X_full, w)}.')"
   ]
  },
  {
   "cell_type": "code",
   "execution_count": 61,
   "metadata": {},
   "outputs": [],
   "source": [
    "idx_to_position = {}\n",
    "for i, fname in enumerate(enc.get_feature_names()):\n",
    "    idx_to_position[int(fname[3:])] = i\n",
    "p_weights = pd.Series(np.zeros(len(df_answers['p_idx'].unique())),\n",
    "                      df_answers['p_idx'].unique())\n",
    "for player in df_answers['p_idx'].unique():\n",
    "    p_weights[player] = w[idx_to_position[player]]\n",
    "q_weights = pd.Series(np.zeros(len(df_answers['q_idx'].unique())),\n",
    "                      df_answers['q_idx'].unique())\n",
    "for question in df_answers['q_idx'].unique():\n",
    "    q_weights[question] = w[idx_to_position[question]]"
   ]
  },
  {
   "cell_type": "markdown",
   "metadata": {},
   "source": [
    "Распределение сложности вопросов"
   ]
  },
  {
   "cell_type": "code",
   "execution_count": 62,
   "metadata": {},
   "outputs": [
    {
     "data": {
      "text/plain": [
       "<matplotlib.axes._subplots.AxesSubplot at 0x7f08863e0cd0>"
      ]
     },
     "execution_count": 62,
     "metadata": {},
     "output_type": "execute_result"
    },
    {
     "data": {
      "image/png": "[encoded data removed]",
      "text/plain": [
       "<Figure size 432x288 with 1 Axes>"
      ]
     },
     "metadata": {
      "needs_background": "light"
     },
     "output_type": "display_data"
    }
   ],
   "source": [
    "q_weights.hist(bins=50)"
   ]
  },
  {
   "cell_type": "code",
   "execution_count": 63,
   "metadata": {},
   "outputs": [
    {
     "name": "stdout",
     "output_type": "stream",
     "text": [
      "Sanity check: 0.9999684771301579\n"
     ]
    }
   ],
   "source": [
    "n_bins = 50\n",
    "space = np.linspace(q_weights.min(), q_weights.max(), n_bins+1)\n",
    "bounds = np.stack([space[:-1], space[1:]]).T\n",
    "diff_space = bounds.mean(axis=1)\n",
    "diff_probs = np.array([((q_weights >= bound[0]) & (q_weights < bound[1])).sum() for bound in bounds])\n",
    "diff_probs = diff_probs / len(q_weights)\n",
    "print(f'Sanity check: {diff_probs.sum()}')"
   ]
  },
  {
   "cell_type": "code",
   "execution_count": 64,
   "metadata": {},
   "outputs": [
    {
     "data": {
      "image/png": "[encoded data removed]",
      "text/plain": [
       "<Figure size 432x288 with 1 Axes>"
      ]
     },
     "metadata": {
      "needs_background": "light"
     },
     "output_type": "display_data"
    }
   ],
   "source": [
    "plt.plot(diff_space, diff_probs)\n",
    "plt.title('Empirical probabilities')\n",
    "plt.show()"
   ]
  },
  {
   "cell_type": "code",
   "execution_count": 65,
   "metadata": {},
   "outputs": [],
   "source": [
    "p_rates = pd.Series(np.zeros(len(df_answers['p_idx'].unique()), dtype=float),\n",
    "                      index=df_answers['p_idx'].unique())\n",
    "for idx in df_answers['p_idx'].unique():\n",
    "    preds = 1 / (1 + np.exp(-(p_weights[idx] + diff_space)))\n",
    "    rate = np.dot(preds, diff_probs)\n",
    "    p_rates[idx] = rate"
   ]
  },
  {
   "cell_type": "code",
   "execution_count": 66,
   "metadata": {},
   "outputs": [],
   "source": [
    "p_rates.to_csv('data/p_rates_em_smoothed.csv')"
   ]
  },
  {
   "cell_type": "markdown",
   "metadata": {},
   "source": [
    "Распределение рейтингов"
   ]
  },
  {
   "cell_type": "code",
   "execution_count": 67,
   "metadata": {},
   "outputs": [
    {
     "data": {
      "text/plain": [
       "<matplotlib.axes._subplots.AxesSubplot at 0x7f08862f4ac0>"
      ]
     },
     "execution_count": 67,
     "metadata": {},
     "output_type": "execute_result"
    },
    {
     "data": {
      "image/png": "[encoded data removed]",
      "text/plain": [
       "<Figure size 432x288 with 1 Axes>"
      ]
     },
     "metadata": {
      "needs_background": "light"
     },
     "output_type": "display_data"
    }
   ],
   "source": [
    "p_rates.hist(bins=50)"
   ]
  },
  {
   "cell_type": "code",
   "execution_count": 68,
   "metadata": {},
   "outputs": [
    {
     "name": "stdout",
     "output_type": "stream",
     "text": [
      "1. Артём Сергеевич Сорожкин: 0.5456930867189971\n",
      "2. Сергей Леонидович Спешков: 0.2296784832850888\n",
      "3. Иван Николаевич Семушин: 0.6070658053148512\n",
      "4. Михаил Владимирович Савченков: 0.28046169205070604\n",
      "5. Максим Михайлович Руссо: 0.34214792469092054\n",
      "6. Александра Владимировна Брутер: 0.3184178358039256\n",
      "7. Александр Витальевич Либер: 0.5185220967317213\n",
      "8. Михаил Ильич Левандовский: 0.3119106622168761\n",
      "9. Ким Гагикович Галачян: 0.32802058796000727\n",
      "10. Сергей Игоревич Николенко: 0.3502904739240475\n"
     ]
    }
   ],
   "source": [
    "top_idxs = [30152, 30270, 28751, 27822, 27403, 4270, 18332, 18036, 6482, 22799]\n",
    "for place, idx in enumerate(top_idxs, 1):\n",
    "    player = players[idx]\n",
    "    print(f\"{place}. {player['name']} {player['patronymic']} {player['surname']}: {p_rates[idx]}\")"
   ]
  },
  {
   "cell_type": "code",
   "execution_count": 69,
   "metadata": {},
   "outputs": [
    {
     "name": "stderr",
     "output_type": "stream",
     "text": [
      "/home/uladzislaw/anaconda3/envs/dl_py38/lib/python3.8/site-packages/numpy/lib/function_base.py:2534: RuntimeWarning: invalid value encountered in true_divide\n",
      "  c /= stddev[:, None]\n",
      "/home/uladzislaw/anaconda3/envs/dl_py38/lib/python3.8/site-packages/numpy/lib/function_base.py:2535: RuntimeWarning: invalid value encountered in true_divide\n",
      "  c /= stddev[None, :]\n",
      "/home/uladzislaw/anaconda3/envs/dl_py38/lib/python3.8/site-packages/scipy/stats/_distn_infrastructure.py:903: RuntimeWarning: invalid value encountered in greater\n",
      "  return (a < x) & (x < b)\n",
      "/home/uladzislaw/anaconda3/envs/dl_py38/lib/python3.8/site-packages/scipy/stats/_distn_infrastructure.py:903: RuntimeWarning: invalid value encountered in less\n",
      "  return (a < x) & (x < b)\n",
      "/home/uladzislaw/anaconda3/envs/dl_py38/lib/python3.8/site-packages/scipy/stats/_distn_infrastructure.py:1912: RuntimeWarning: invalid value encountered in less_equal\n",
      "  cond2 = cond0 & (x <= _a)\n"
     ]
    },
    {
     "name": "stdout",
     "output_type": "stream",
     "text": [
      "Average Spearman correlation: 0.7748671548973513\n",
      "Average Kendall correlation: 0.618606620032114\n"
     ]
    }
   ],
   "source": [
    "num_tournaments = 0\n",
    "spearman_coef = 0\n",
    "kendall_coef = 0\n",
    "for t_idx in tournaments_test.keys():\n",
    "    if not results[t_idx]:\n",
    "        continue\n",
    "    if not 'position' in results[t_idx][0].keys():\n",
    "        continue\n",
    "    ranks_pred = np.zeros(len(results[t_idx]))\n",
    "    ranks_true = np.zeros(len(results[t_idx]))\n",
    "    for i, result in enumerate(results[t_idx]):\n",
    "        ranks_true[i] = result['position']\n",
    "        ranks_pred[i] = evaluate_team(result['teamMembers'])\n",
    "    spearman_coef_curr = sps.spearmanr(ranks_pred, -ranks_true)[0]\n",
    "    kendall_coef_curr = sps.kendalltau(ranks_pred, -ranks_true)[0]\n",
    "    if not (np.isnan(spearman_coef_curr) or np.isnan(kendall_coef_curr)):\n",
    "        spearman_coef += spearman_coef_curr\n",
    "        kendall_coef += kendall_coef_curr\n",
    "        num_tournaments += 1\n",
    "print(f'Average Spearman correlation: {spearman_coef/num_tournaments}')\n",
    "print(f'Average Kendall correlation: {kendall_coef/num_tournaments}')"
   ]
  },
  {
   "cell_type": "code",
   "execution_count": 70,
   "metadata": {},
   "outputs": [
    {
     "data": {
      "text/html": [
       "<div>\n",
       "<style scoped>\n",
       "    .dataframe tbody tr th:only-of-type {\n",
       "        vertical-align: middle;\n",
       "    }\n",
       "\n",
       "    .dataframe tbody tr th {\n",
       "        vertical-align: top;\n",
       "    }\n",
       "\n",
       "    .dataframe thead th {\n",
       "        text-align: right;\n",
       "    }\n",
       "</style>\n",
       "<table border=\"1\" class=\"dataframe\">\n",
       "  <thead>\n",
       "    <tr style=\"text-align: right;\">\n",
       "      <th></th>\n",
       "      <th>name</th>\n",
       "      <th>patronymic</th>\n",
       "      <th>surname</th>\n",
       "      <th>rate</th>\n",
       "      <th>questions</th>\n",
       "    </tr>\n",
       "    <tr>\n",
       "      <th>place</th>\n",
       "      <th></th>\n",
       "      <th></th>\n",
       "      <th></th>\n",
       "      <th></th>\n",
       "      <th></th>\n",
       "    </tr>\n",
       "  </thead>\n",
       "  <tbody>\n",
       "    <tr>\n",
       "      <th>1</th>\n",
       "      <td>Илья</td>\n",
       "      <td>Сергеевич</td>\n",
       "      <td>Немец</td>\n",
       "      <td>0.608777</td>\n",
       "      <td>75</td>\n",
       "    </tr>\n",
       "    <tr>\n",
       "      <th>2</th>\n",
       "      <td>Иван</td>\n",
       "      <td>Николаевич</td>\n",
       "      <td>Семушин</td>\n",
       "      <td>0.607066</td>\n",
       "      <td>3718</td>\n",
       "    </tr>\n",
       "    <tr>\n",
       "      <th>3</th>\n",
       "      <td>Игорь</td>\n",
       "      <td>Викторович</td>\n",
       "      <td>Мокин</td>\n",
       "      <td>0.579707</td>\n",
       "      <td>1220</td>\n",
       "    </tr>\n",
       "    <tr>\n",
       "      <th>4</th>\n",
       "      <td>Евгений</td>\n",
       "      <td>Павлович</td>\n",
       "      <td>Спектор</td>\n",
       "      <td>0.555909</td>\n",
       "      <td>244</td>\n",
       "    </tr>\n",
       "    <tr>\n",
       "      <th>5</th>\n",
       "      <td>Александр</td>\n",
       "      <td>Геннадьевич</td>\n",
       "      <td>Коробейников</td>\n",
       "      <td>0.547804</td>\n",
       "      <td>1392</td>\n",
       "    </tr>\n",
       "    <tr>\n",
       "      <th>6</th>\n",
       "      <td>Артём</td>\n",
       "      <td>Сергеевич</td>\n",
       "      <td>Сорожкин</td>\n",
       "      <td>0.545693</td>\n",
       "      <td>4708</td>\n",
       "    </tr>\n",
       "    <tr>\n",
       "      <th>7</th>\n",
       "      <td>Светлана</td>\n",
       "      <td>Анатольевна</td>\n",
       "      <td>Гусарова</td>\n",
       "      <td>0.531072</td>\n",
       "      <td>111</td>\n",
       "    </tr>\n",
       "    <tr>\n",
       "      <th>8</th>\n",
       "      <td>Александр</td>\n",
       "      <td>Валерьевич</td>\n",
       "      <td>Марков</td>\n",
       "      <td>0.530837</td>\n",
       "      <td>2877</td>\n",
       "    </tr>\n",
       "    <tr>\n",
       "      <th>9</th>\n",
       "      <td>Алексей</td>\n",
       "      <td>Владимирович</td>\n",
       "      <td>Гилёв</td>\n",
       "      <td>0.529963</td>\n",
       "      <td>4334</td>\n",
       "    </tr>\n",
       "    <tr>\n",
       "      <th>10</th>\n",
       "      <td>Александр</td>\n",
       "      <td>Ефимович</td>\n",
       "      <td>Мартынов</td>\n",
       "      <td>0.521469</td>\n",
       "      <td>1467</td>\n",
       "    </tr>\n",
       "    <tr>\n",
       "      <th>11</th>\n",
       "      <td>Александр</td>\n",
       "      <td>Витальевич</td>\n",
       "      <td>Либер</td>\n",
       "      <td>0.518522</td>\n",
       "      <td>3587</td>\n",
       "    </tr>\n",
       "    <tr>\n",
       "      <th>12</th>\n",
       "      <td>Михаил</td>\n",
       "      <td>Владимирович</td>\n",
       "      <td>Завьялов</td>\n",
       "      <td>0.516387</td>\n",
       "      <td>36</td>\n",
       "    </tr>\n",
       "    <tr>\n",
       "      <th>13</th>\n",
       "      <td>Дмитрий</td>\n",
       "      <td>Владимирович</td>\n",
       "      <td>Борок</td>\n",
       "      <td>0.515248</td>\n",
       "      <td>692</td>\n",
       "    </tr>\n",
       "    <tr>\n",
       "      <th>14</th>\n",
       "      <td>Александр</td>\n",
       "      <td>Александрович</td>\n",
       "      <td>Верёвкин</td>\n",
       "      <td>0.510853</td>\n",
       "      <td>466</td>\n",
       "    </tr>\n",
       "    <tr>\n",
       "      <th>15</th>\n",
       "      <td>Ирина</td>\n",
       "      <td>Николаевна</td>\n",
       "      <td>Колесникова</td>\n",
       "      <td>0.498217</td>\n",
       "      <td>712</td>\n",
       "    </tr>\n",
       "    <tr>\n",
       "      <th>16</th>\n",
       "      <td>Сусанна</td>\n",
       "      <td>Марковна</td>\n",
       "      <td>Бровер</td>\n",
       "      <td>0.497885</td>\n",
       "      <td>640</td>\n",
       "    </tr>\n",
       "    <tr>\n",
       "      <th>17</th>\n",
       "      <td>Антон</td>\n",
       "      <td>Андреевич</td>\n",
       "      <td>Мартыненко</td>\n",
       "      <td>0.492758</td>\n",
       "      <td>2403</td>\n",
       "    </tr>\n",
       "    <tr>\n",
       "      <th>18</th>\n",
       "      <td>Наталья</td>\n",
       "      <td>Алексеевна</td>\n",
       "      <td>Кудряшова</td>\n",
       "      <td>0.491905</td>\n",
       "      <td>2431</td>\n",
       "    </tr>\n",
       "    <tr>\n",
       "      <th>19</th>\n",
       "      <td>Егор</td>\n",
       "      <td>Дмитриевич</td>\n",
       "      <td>Господчиков</td>\n",
       "      <td>0.490223</td>\n",
       "      <td>1393</td>\n",
       "    </tr>\n",
       "    <tr>\n",
       "      <th>20</th>\n",
       "      <td>Михаил</td>\n",
       "      <td>Андреевич</td>\n",
       "      <td>Новосёлов</td>\n",
       "      <td>0.489962</td>\n",
       "      <td>2986</td>\n",
       "    </tr>\n",
       "  </tbody>\n",
       "</table>\n",
       "</div>"
      ],
      "text/plain": [
       "            name     patronymic       surname      rate  questions\n",
       "place                                                             \n",
       "1           Илья      Сергеевич         Немец  0.608777         75\n",
       "2           Иван     Николаевич       Семушин  0.607066       3718\n",
       "3          Игорь     Викторович         Мокин  0.579707       1220\n",
       "4        Евгений       Павлович       Спектор  0.555909        244\n",
       "5      Александр    Геннадьевич  Коробейников  0.547804       1392\n",
       "6          Артём      Сергеевич      Сорожкин  0.545693       4708\n",
       "7       Светлана    Анатольевна      Гусарова  0.531072        111\n",
       "8      Александр     Валерьевич        Марков  0.530837       2877\n",
       "9        Алексей   Владимирович         Гилёв  0.529963       4334\n",
       "10     Александр       Ефимович      Мартынов  0.521469       1467\n",
       "11     Александр     Витальевич         Либер  0.518522       3587\n",
       "12        Михаил   Владимирович      Завьялов  0.516387         36\n",
       "13       Дмитрий   Владимирович         Борок  0.515248        692\n",
       "14     Александр  Александрович      Верёвкин  0.510853        466\n",
       "15         Ирина     Николаевна   Колесникова  0.498217        712\n",
       "16       Сусанна       Марковна        Бровер  0.497885        640\n",
       "17         Антон      Андреевич    Мартыненко  0.492758       2403\n",
       "18       Наталья     Алексеевна     Кудряшова  0.491905       2431\n",
       "19          Егор     Дмитриевич   Господчиков  0.490223       1393\n",
       "20        Михаил      Андреевич     Новосёлов  0.489962       2986"
      ]
     },
     "execution_count": 70,
     "metadata": {},
     "output_type": "execute_result"
    }
   ],
   "source": [
    "make_top_table(min_questions=0)"
   ]
  },
  {
   "cell_type": "markdown",
   "metadata": {},
   "source": [
    "Как видно, в топ сглаженной модели попали уже игроки с большим количеством вопросов."
   ]
  },
  {
   "cell_type": "markdown",
   "metadata": {},
   "source": [
    "# Task 7 (рассуждения, без реализации)"
   ]
  },
  {
   "cell_type": "markdown",
   "metadata": {},
   "source": [
    "Действительно, обучать модель только за последний год - это достаточно грубый способ учёта изменения навыков. Нужен какой-то компромиссный метод между учётом всего опыта равносильно и только последнего года. Чтобы учесть предыдущий опыт игрока, я бы предложил обучить модель, аналогичную предложенной в 4 задаче для каждого года в отдельности. После этого можно взять среднее между полученными значениями рейтинга, но с определёнными весами, где у более давних годов будет меньше вес, чем у последних. Веса можно подобрать либо вручную, в зависимости от того, насколько быстро мы хотим, чтобы модель забывала предыдущий опыт, либо взять последний год в качестве валидационных данных и на нём подобрать оптимальные веса, которые максимизировали бы целевую метрику."
   ]
  }
 ],
 "metadata": {
  "kernelspec": {
   "display_name": "Python 3",
   "language": "python",
   "name": "python3"
  },
  "language_info": {
   "codemirror_mode": {
    "name": "ipython",
    "version": 3
   },
   "file_extension": ".py",
   "mimetype": "text/x-python",
   "name": "python",
   "nbconvert_exporter": "python",
   "pygments_lexer": "ipython3",
   "version": "3.8.1"
  }
 },
 "nbformat": 4,
 "nbformat_minor": 4
}
